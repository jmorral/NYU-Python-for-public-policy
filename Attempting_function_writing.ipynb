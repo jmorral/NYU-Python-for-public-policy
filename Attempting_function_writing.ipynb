{
  "nbformat": 4,
  "nbformat_minor": 0,
  "metadata": {
    "colab": {
      "name": "Attempting function writing",
      "provenance": [],
      "collapsed_sections": []
    },
    "kernelspec": {
      "name": "python3",
      "display_name": "Python 3"
    }
  },
  "cells": [
    {
      "cell_type": "markdown",
      "metadata": {
        "id": "XrSPAHLhTf71",
        "colab_type": "text"
      },
      "source": [
        "# Summer Salary Worksheet"
      ]
    },
    {
      "cell_type": "code",
      "metadata": {
        "id": "hp9LEff1H_pm",
        "colab_type": "code",
        "colab": {}
      },
      "source": [
        "def summer_salary(salary, fund_type, months):\n",
        "  \"\"\"Calculate the full cost of summer salary for a professor taking fund type into consideration.\"\"\"\n",
        "  fringe_unrestricted = 1.30\n",
        "  fringe_restricted = 1.30\n",
        "  overhead = 1.585\n",
        "  salary = salary/9\n",
        "  return (salary * fringe_restricted * overhead * months) if fund_type == 25 or fund_type == 24 else (salary * fringe_unrestricted * months)"
      ],
      "execution_count": 0,
      "outputs": []
    },
    {
      "cell_type": "code",
      "metadata": {
        "id": "s44y4dJULjzz",
        "colab_type": "code",
        "outputId": "56444eb5-e4d6-4dbf-9997-6b1472dd0d92",
        "cellView": "code",
        "colab": {
          "base_uri": "https://localhost:8080/",
          "height": 34
        }
      },
      "source": [
        "summer_salary(100000,24,1)"
      ],
      "execution_count": 3,
      "outputs": [
        {
          "output_type": "execute_result",
          "data": {
            "text/plain": [
              "22894.444444444445"
            ]
          },
          "metadata": {
            "tags": []
          },
          "execution_count": 3
        }
      ]
    },
    {
      "cell_type": "code",
      "metadata": {
        "id": "XN0jGIXiO_lb",
        "colab_type": "code",
        "colab": {}
      },
      "source": [
        "### George Cell\n",
        "def summer_salary_pythonic(salary, fund_type):\n",
        "  return ((salary * 1.3) if fund_type == 30 else (salary * 1.3 * 1.585))/9\n"
      ],
      "execution_count": 0,
      "outputs": []
    },
    {
      "cell_type": "code",
      "metadata": {
        "id": "3GbLai9jS39D",
        "colab_type": "code",
        "colab": {}
      },
      "source": [
        ""
      ],
      "execution_count": 0,
      "outputs": []
    },
    {
      "cell_type": "code",
      "metadata": {
        "id": "izh63vNMLm0n",
        "colab_type": "code",
        "outputId": "9a147390-94a9-4a37-bc5f-9363eaed0e3e",
        "colab": {
          "base_uri": "https://localhost:8080/",
          "height": 34
        }
      },
      "source": [
        "summer_salary_pythonic(100000, 25)"
      ],
      "execution_count": 0,
      "outputs": [
        {
          "output_type": "execute_result",
          "data": {
            "text/plain": [
              "22894.444444444445"
            ]
          },
          "metadata": {
            "tags": []
          },
          "execution_count": 10
        }
      ]
    }
  ]
}