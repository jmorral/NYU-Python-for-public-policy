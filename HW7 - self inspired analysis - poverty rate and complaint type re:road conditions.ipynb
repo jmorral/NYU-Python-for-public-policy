{
  "nbformat": 4,
  "nbformat_minor": 0,
  "metadata": {
    "colab": {
      "name": "HW7.ipynb",
      "provenance": [],
      "include_colab_link": true
    },
    "kernelspec": {
      "name": "python3",
      "display_name": "Python 3"
    }
  },
  "cells": [
    {
      "cell_type": "markdown",
      "metadata": {
        "id": "view-in-github",
        "colab_type": "text"
      },
      "source": [
        "<a href=\"https://colab.research.google.com/github/jmorral/nyu-python-public-policy/blob/master/HW7.ipynb\" target=\"_parent\"><img src=\"https://colab.research.google.com/assets/colab-badge.svg\" alt=\"Open In Colab\"/></a>"
      ]
    },
    {
      "cell_type": "markdown",
      "metadata": {
        "id": "dWosbkGj3cqH",
        "colab_type": "text"
      },
      "source": [
        "Research Question: I am starting my question with a story. I have ridden my bicycle through every borough of NYC and have seen a wide variety of roadway conditions. One weekend I rode from a friend's house in the Bronx north to Glen Island. So, I crossed the invisible barrier that serves as the county line and remember thinking distinctly that I had. I immediately noticed that once I had crossed into Pelham Manor, that the streets were better kept, i.e. fewer potholes/busted pavement, nice sidewalks, clean/newer road signs, etc. I have been to other places in NYC and NJ and it always seems that when the houses are nicer that the roads aren't so destroyed. Maybe this is because persons in lower poverty areas submit more complaints. Maybe this is because the city/township/borough/state (I'm also keeping NJ in mind when I say that) supplies less funding for areas with greater poverty. \n",
        "\n",
        "In this assignment I will compare poverty rates from the NYC community district profiles with three 311 complaint types that correlate to street and sidewalk conditions. "
      ]
    },
    {
      "cell_type": "code",
      "metadata": {
        "id": "nJNnuS5YDwec",
        "colab_type": "code",
        "outputId": "fecfd365-2b84-45c2-ecae-2d07230f8632",
        "colab": {
          "base_uri": "https://localhost:8080/",
          "height": 122
        }
      },
      "source": [
        "import pandas as pd\n",
        "import numpy as np\n",
        "import matplotlib.pyplot as plt\n",
        "import statsmodels.api as sm\n",
        "import io\n",
        "import requests\n",
        "from google.colab import drive\n",
        "drive.mount('/content/drive')"
      ],
      "execution_count": 1,
      "outputs": [
        {
          "output_type": "stream",
          "text": [
            "Go to this URL in a browser: https://accounts.google.com/o/oauth2/auth?client_id=947318989803-6bn6qk8qdgf4n4g3pfee6491hc0brc4i.apps.googleusercontent.com&redirect_uri=urn%3aietf%3awg%3aoauth%3a2.0%3aoob&response_type=code&scope=email%20https%3a%2f%2fwww.googleapis.com%2fauth%2fdocs.test%20https%3a%2f%2fwww.googleapis.com%2fauth%2fdrive%20https%3a%2f%2fwww.googleapis.com%2fauth%2fdrive.photos.readonly%20https%3a%2f%2fwww.googleapis.com%2fauth%2fpeopleapi.readonly\n",
            "\n",
            "Enter your authorization code:\n",
            "··········\n",
            "Mounted at /content/drive\n"
          ],
          "name": "stdout"
        }
      ]
    },
    {
      "cell_type": "code",
      "metadata": {
        "id": "sm--F-zTEB1y",
        "colab_type": "code",
        "colab": {}
      },
      "source": [
        "pd.set_option('display.max_columns', None)\n",
        "pd.set_option('display.max_rows', None)"
      ],
      "execution_count": 0,
      "outputs": []
    },
    {
      "cell_type": "code",
      "metadata": {
        "id": "pz0J5F6tHHQx",
        "colab_type": "code",
        "outputId": "37d81dea-5439-4ebc-fdfa-d9304f8be7c0",
        "colab": {
          "base_uri": "https://localhost:8080/",
          "height": 71
        }
      },
      "source": [
        "df = pd.read_csv('/content/drive/My Drive/Data for Python/cleaned_311_data_revised.csv', header='infer')"
      ],
      "execution_count": 3,
      "outputs": [
        {
          "output_type": "stream",
          "text": [
            "/usr/local/lib/python3.6/dist-packages/IPython/core/interactiveshell.py:2718: DtypeWarning: Columns (10,19,20,22,33,36,37,38,39) have mixed types. Specify dtype option on import or set low_memory=False.\n",
            "  interactivity=interactivity, compiler=compiler, result=result)\n"
          ],
          "name": "stderr"
        }
      ]
    },
    {
      "cell_type": "code",
      "metadata": {
        "id": "truZL3lLW4l5",
        "colab_type": "code",
        "outputId": "533fed7c-8a03-422d-f1f6-a69025ebd306",
        "colab": {
          "base_uri": "https://localhost:8080/",
          "height": 51
        }
      },
      "source": [
        "#There are some NaN values in the borocd column. Fixing this and converting from float to int so that borocd column lines up in merge. \n",
        "print(\"Before\", len(df.borocd))\n",
        "df = df.dropna(subset = ['borocd'])\n",
        "print(\"After\", len(df.borocd))"
      ],
      "execution_count": 4,
      "outputs": [
        {
          "output_type": "stream",
          "text": [
            "Before 2720217\n",
            "After 2676699\n"
          ],
          "name": "stdout"
        }
      ]
    },
    {
      "cell_type": "code",
      "metadata": {
        "id": "odDaUYf8PcI7",
        "colab_type": "code",
        "outputId": "3208841e-c12b-45b5-aae4-d7f2a0aebdd4",
        "colab": {
          "base_uri": "https://localhost:8080/",
          "height": 51
        }
      },
      "source": [
        "print (type(df.borocd[0]))\n",
        "x = np.array(df.borocd)\n",
        "df.borocd = x.astype(int)\n",
        "print (type(df.borocd[0]))\n"
      ],
      "execution_count": 7,
      "outputs": [
        {
          "output_type": "stream",
          "text": [
            "<class 'numpy.float64'>\n",
            "<class 'numpy.int64'>\n"
          ],
          "name": "stdout"
        }
      ]
    },
    {
      "cell_type": "code",
      "metadata": {
        "id": "BRIg3877EC5j",
        "colab_type": "code",
        "colab": {}
      },
      "source": [
        "# For some reason I got errors when trying to import the csv file linked in the starter file for HW7. Found a workaround. Inspected element on your file, found the web address of indicators and then imported from url.\n",
        "\n",
        "url=\"https://planninglabs.carto.com/api/v2/sql?format=csv&q=SELECT%20cartodb_id,the_geom,the_geom_webmercator,acres,acs_tooltip,acs_tooltip_2,acs_tooltip_3,area_sqmi,borocd,cb_email,cb_website,cd_full_title,cd_short_title,cd_son_fy2018,cd_tot_bldgs,cd_tot_resunits,count_hosp_clinic,count_libraries,count_parks,count_public_schools,crime_count,crime_count_boro,crime_count_nyc,crime_per_1000,crime_per_1000_boro,crime_per_1000_nyc,female_10_14,female_15_19,female_20_24,female_25_29,female_30_34,female_35_39,female_40_44,female_45_49,female_5_9,female_50_54,female_55_59,female_60_64,female_65_69,female_70_74,female_75_79,female_80_84,female_85_over,female_under_5,fp_100_area,fp_100_bldg,fp_100_cost_burden,fp_100_cost_burden_value,fp_100_mhhi,fp_100_mortg_value,fp_100_openspace,fp_100_ownerocc,fp_100_ownerocc_value,fp_100_permortg,fp_100_pop,fp_100_rent_burden,fp_100_rent_burden_value,fp_100_resunits,fp_500_area,fp_500_bldg,fp_500_cost_burden,fp_500_cost_burden_value,fp_500_mhhi,fp_500_mortg_value,fp_500_openspace,fp_500_ownerocc,fp_500_ownerocc_value,fp_500_permortg,fp_500_pop,fp_500_rent_burden,fp_500_rent_burden_value,fp_500_resunits,lep_rate,lep_rate_boro,lep_rate_nyc,lot_area_commercial_office,lot_area_industrial_manufacturing,lot_area_mixed_use,lot_area_open_space,lot_area_other_no_data,lot_area_parking,lot_area_public_facility_institution,lot_area_res_1_2_family_bldg,lot_area_res_multifamily_elevator,lot_area_res_multifamily_walkup,lot_area_transportation_utility,lot_area_vacant,lots_commercial_office,lots_industrial_manufacturing,lots_mixed_use,lots_open_space,lots_other_no_data,lots_parking,lots_public_facility_institution,lots_res_1_2_family_bldg,lots_res_multifamily_elevator,lots_res_multifamily_walkup,lots_total,lots_transportation_utility,lots_vacant,male_10_14,male_15_19,male_20_24,male_25_29,male_30_34,male_35_39,male_40_44,male_45_49,male_5_9,male_50_54,male_55_59,male_60_64,male_65_69,male_70_74,male_75_79,male_80_84,male_85_over,male_under_5,mean_commute,mean_commute_boro,mean_commute_nyc,moe_bach_deg,moe_bach_deg_boro,moe_bach_deg_nyc,moe_foreign_born,moe_hh_rent_burd,moe_hh_rent_burd_boro,moe_hh_rent_burd_nyc,moe_lep_rate,moe_lep_rate_boro,moe_lep_rate_nyc,moe_mean_commute,moe_mean_commute_boro,moe_mean_commute_nyc,moe_over65_rate,moe_over65_rate_boro,moe_over65_rate_nyc,moe_poverty_rate,moe_under18_rate,moe_under18_rate_boro,moe_under18_rate_nyc,moe_unemnployment,moe_unemployment_boro,moe_unemployment_cd,neighborhoods,over65_rate,over65_rate_boro,over65_rate_nyc,pct_asian_nh,pct_bach_deg,pct_bach_deg_boro,pct_bach_deg_nyc,pct_black_nh,pct_clean_strts,pct_clean_strts_boro,pct_clean_strts_nyc,pct_foreign_born,pct_hh_rent_burd,pct_hh_rent_burd_boro,pct_hh_rent_burd_nyc,pct_hispanic,pct_other_nh,pct_served_parks,pct_white_nh,pop_2000,pop_2010,pop_acs,pop_change_00_10,poverty_rate,poverty_rate_boro,poverty_rate_nyc,puma,shared_puma,shared_puma_cd,son_issue_1,son_issue_2,son_issue_3,total_lot_area,under18_rate,under18_rate_boro,under18_rate_nyc,unemployment_boro,unemployment_cd,unemployment_nyc%20FROM%20community_district_profiles&filename=indicators.csv\"\n",
        "s=requests.get(url).content\n",
        "ind = pd.read_csv(io.StringIO(s.decode('utf-8')))\n"
      ],
      "execution_count": 0,
      "outputs": []
    },
    {
      "cell_type": "code",
      "metadata": {
        "id": "YmM8u1DwHtcA",
        "colab_type": "code",
        "outputId": "ce0269e8-1ffd-487d-a464-c26a28936f29",
        "colab": {
          "base_uri": "https://localhost:8080/",
          "height": 51
        }
      },
      "source": [
        "#Checking that borocd is good to go here.\n",
        "print(len(ind.borocd))\n",
        "ind = ind.dropna(subset = ['borocd'])\n",
        "print(len(ind.borocd))"
      ],
      "execution_count": 10,
      "outputs": [
        {
          "output_type": "stream",
          "text": [
            "59\n",
            "59\n"
          ],
          "name": "stdout"
        }
      ]
    },
    {
      "cell_type": "markdown",
      "metadata": {
        "id": "OL9-CT1x2J-X",
        "colab_type": "text"
      },
      "source": [
        "Step 1. Select an indicator from the Community District Profiles data that you want to analyze for this assignment. Create a dataframe that only captures the borocd and selected indicator column."
      ]
    },
    {
      "cell_type": "code",
      "metadata": {
        "id": "oRFenVvsKQLZ",
        "colab_type": "code",
        "outputId": "893518e0-4a1d-482c-92e5-6c965994581a",
        "colab": {
          "base_uri": "https://localhost:8080/",
          "height": 669
        }
      },
      "source": [
        "cdprof = pd.DataFrame(ind, columns = ['borocd', 'poverty_rate'])\n",
        "cdprof.head(20)"
      ],
      "execution_count": 11,
      "outputs": [
        {
          "output_type": "execute_result",
          "data": {
            "text/html": [
              "<div>\n",
              "<style scoped>\n",
              "    .dataframe tbody tr th:only-of-type {\n",
              "        vertical-align: middle;\n",
              "    }\n",
              "\n",
              "    .dataframe tbody tr th {\n",
              "        vertical-align: top;\n",
              "    }\n",
              "\n",
              "    .dataframe thead th {\n",
              "        text-align: right;\n",
              "    }\n",
              "</style>\n",
              "<table border=\"1\" class=\"dataframe\">\n",
              "  <thead>\n",
              "    <tr style=\"text-align: right;\">\n",
              "      <th></th>\n",
              "      <th>borocd</th>\n",
              "      <th>poverty_rate</th>\n",
              "    </tr>\n",
              "  </thead>\n",
              "  <tbody>\n",
              "    <tr>\n",
              "      <th>0</th>\n",
              "      <td>101</td>\n",
              "      <td>8.8</td>\n",
              "    </tr>\n",
              "    <tr>\n",
              "      <th>1</th>\n",
              "      <td>102</td>\n",
              "      <td>8.8</td>\n",
              "    </tr>\n",
              "    <tr>\n",
              "      <th>2</th>\n",
              "      <td>103</td>\n",
              "      <td>19.3</td>\n",
              "    </tr>\n",
              "    <tr>\n",
              "      <th>3</th>\n",
              "      <td>104</td>\n",
              "      <td>11.3</td>\n",
              "    </tr>\n",
              "    <tr>\n",
              "      <th>4</th>\n",
              "      <td>105</td>\n",
              "      <td>11.3</td>\n",
              "    </tr>\n",
              "    <tr>\n",
              "      <th>5</th>\n",
              "      <td>106</td>\n",
              "      <td>9.8</td>\n",
              "    </tr>\n",
              "    <tr>\n",
              "      <th>6</th>\n",
              "      <td>107</td>\n",
              "      <td>9.2</td>\n",
              "    </tr>\n",
              "    <tr>\n",
              "      <th>7</th>\n",
              "      <td>108</td>\n",
              "      <td>7.2</td>\n",
              "    </tr>\n",
              "    <tr>\n",
              "      <th>8</th>\n",
              "      <td>109</td>\n",
              "      <td>20.7</td>\n",
              "    </tr>\n",
              "    <tr>\n",
              "      <th>9</th>\n",
              "      <td>110</td>\n",
              "      <td>20.2</td>\n",
              "    </tr>\n",
              "    <tr>\n",
              "      <th>10</th>\n",
              "      <td>111</td>\n",
              "      <td>22.3</td>\n",
              "    </tr>\n",
              "    <tr>\n",
              "      <th>11</th>\n",
              "      <td>112</td>\n",
              "      <td>19.6</td>\n",
              "    </tr>\n",
              "    <tr>\n",
              "      <th>12</th>\n",
              "      <td>201</td>\n",
              "      <td>31.0</td>\n",
              "    </tr>\n",
              "    <tr>\n",
              "      <th>13</th>\n",
              "      <td>202</td>\n",
              "      <td>31.0</td>\n",
              "    </tr>\n",
              "    <tr>\n",
              "      <th>14</th>\n",
              "      <td>203</td>\n",
              "      <td>30.3</td>\n",
              "    </tr>\n",
              "    <tr>\n",
              "      <th>15</th>\n",
              "      <td>204</td>\n",
              "      <td>32.4</td>\n",
              "    </tr>\n",
              "    <tr>\n",
              "      <th>16</th>\n",
              "      <td>205</td>\n",
              "      <td>35.6</td>\n",
              "    </tr>\n",
              "    <tr>\n",
              "      <th>17</th>\n",
              "      <td>206</td>\n",
              "      <td>30.3</td>\n",
              "    </tr>\n",
              "    <tr>\n",
              "      <th>18</th>\n",
              "      <td>207</td>\n",
              "      <td>27.4</td>\n",
              "    </tr>\n",
              "    <tr>\n",
              "      <th>19</th>\n",
              "      <td>208</td>\n",
              "      <td>15.8</td>\n",
              "    </tr>\n",
              "  </tbody>\n",
              "</table>\n",
              "</div>"
            ],
            "text/plain": [
              "    borocd  poverty_rate\n",
              "0      101           8.8\n",
              "1      102           8.8\n",
              "2      103          19.3\n",
              "3      104          11.3\n",
              "4      105          11.3\n",
              "5      106           9.8\n",
              "6      107           9.2\n",
              "7      108           7.2\n",
              "8      109          20.7\n",
              "9      110          20.2\n",
              "10     111          22.3\n",
              "11     112          19.6\n",
              "12     201          31.0\n",
              "13     202          31.0\n",
              "14     203          30.3\n",
              "15     204          32.4\n",
              "16     205          35.6\n",
              "17     206          30.3\n",
              "18     207          27.4\n",
              "19     208          15.8"
            ]
          },
          "metadata": {
            "tags": []
          },
          "execution_count": 11
        }
      ]
    },
    {
      "cell_type": "markdown",
      "metadata": {
        "id": "Ir_J7Dxi2J1L",
        "colab_type": "text"
      },
      "source": [
        " Step 2. Review the complaint types in the 311 complaint data. Choose the complaint type(s) you hypothesize should correlate with the indicator you chose in Step 1. Create a new dataframe that only captures the 311 complaints you want to analyze."
      ]
    },
    {
      "cell_type": "code",
      "metadata": {
        "id": "UX6-HOgEgBb1",
        "colab_type": "code",
        "outputId": "20406321-73d1-4ffc-8d99-4139a03c2fd9",
        "colab": {
          "base_uri": "https://localhost:8080/",
          "height": 394
        }
      },
      "source": [
        "#complaints of interest\n",
        "complaint_types = ['Street Condition', 'Street Light Condition', 'Sidewalk Condition']\n",
        "\n",
        "subset = df[df['complaint_type'].isin(complaint_types)]\n",
        "subset.head()"
      ],
      "execution_count": 12,
      "outputs": [
        {
          "output_type": "execute_result",
          "data": {
            "text/html": [
              "<div>\n",
              "<style scoped>\n",
              "    .dataframe tbody tr th:only-of-type {\n",
              "        vertical-align: middle;\n",
              "    }\n",
              "\n",
              "    .dataframe tbody tr th {\n",
              "        vertical-align: top;\n",
              "    }\n",
              "\n",
              "    .dataframe thead th {\n",
              "        text-align: right;\n",
              "    }\n",
              "</style>\n",
              "<table border=\"1\" class=\"dataframe\">\n",
              "  <thead>\n",
              "    <tr style=\"text-align: right;\">\n",
              "      <th></th>\n",
              "      <th>Unnamed: 0</th>\n",
              "      <th>Unnamed: 0.1</th>\n",
              "      <th>unique_key</th>\n",
              "      <th>created_date</th>\n",
              "      <th>closed_date</th>\n",
              "      <th>agency</th>\n",
              "      <th>agency_name</th>\n",
              "      <th>complaint_type</th>\n",
              "      <th>descriptor</th>\n",
              "      <th>location_type</th>\n",
              "      <th>incident_zip</th>\n",
              "      <th>incident_address</th>\n",
              "      <th>street_name</th>\n",
              "      <th>cross_street_1</th>\n",
              "      <th>cross_street_2</th>\n",
              "      <th>intersection_street_1</th>\n",
              "      <th>intersection_street_2</th>\n",
              "      <th>address_type</th>\n",
              "      <th>city</th>\n",
              "      <th>landmark</th>\n",
              "      <th>facility_type</th>\n",
              "      <th>status</th>\n",
              "      <th>due_date</th>\n",
              "      <th>resolution_description</th>\n",
              "      <th>resolution_action_updated_date</th>\n",
              "      <th>community_board</th>\n",
              "      <th>bbl</th>\n",
              "      <th>borough</th>\n",
              "      <th>x_coordinate_(state_plane)</th>\n",
              "      <th>y_coordinate_(state_plane)</th>\n",
              "      <th>open_data_channel_type</th>\n",
              "      <th>park_facility_name</th>\n",
              "      <th>park_borough</th>\n",
              "      <th>vehicle_type</th>\n",
              "      <th>taxi_company_borough</th>\n",
              "      <th>taxi_pick_up_location</th>\n",
              "      <th>bridge_highway_name</th>\n",
              "      <th>bridge_highway_direction</th>\n",
              "      <th>road_ramp</th>\n",
              "      <th>bridge_highway_segment</th>\n",
              "      <th>latitude</th>\n",
              "      <th>longitude</th>\n",
              "      <th>location</th>\n",
              "      <th>borocd</th>\n",
              "    </tr>\n",
              "  </thead>\n",
              "  <tbody>\n",
              "    <tr>\n",
              "      <th>12</th>\n",
              "      <td>12</td>\n",
              "      <td>12</td>\n",
              "      <td>39885889</td>\n",
              "      <td>08/01/2018 12:05:13 AM</td>\n",
              "      <td>08/01/2018 12:05:13 AM</td>\n",
              "      <td>DOT</td>\n",
              "      <td>Department of Transportation</td>\n",
              "      <td>Street Condition</td>\n",
              "      <td>Pothole</td>\n",
              "      <td>NaN</td>\n",
              "      <td>11235</td>\n",
              "      <td>3143 SHORE PARKWAY</td>\n",
              "      <td>SHORE PARKWAY</td>\n",
              "      <td>EAST   11 STREET</td>\n",
              "      <td>EAST   12 STREET</td>\n",
              "      <td>NaN</td>\n",
              "      <td>NaN</td>\n",
              "      <td>ADDRESS</td>\n",
              "      <td>BROOKLYN</td>\n",
              "      <td>NaN</td>\n",
              "      <td>NaN</td>\n",
              "      <td>Closed</td>\n",
              "      <td>NaN</td>\n",
              "      <td>The Department of Transportation determined th...</td>\n",
              "      <td>08/01/2018 12:05:13 AM</td>\n",
              "      <td>15 BROOKLYN</td>\n",
              "      <td>3.074550e+09</td>\n",
              "      <td>BROOKLYN</td>\n",
              "      <td>995605.0</td>\n",
              "      <td>152467.0</td>\n",
              "      <td>UNKNOWN</td>\n",
              "      <td>Unspecified</td>\n",
              "      <td>BROOKLYN</td>\n",
              "      <td>NaN</td>\n",
              "      <td>NaN</td>\n",
              "      <td>NaN</td>\n",
              "      <td>NaN</td>\n",
              "      <td>NaN</td>\n",
              "      <td>NaN</td>\n",
              "      <td>NaN</td>\n",
              "      <td>40.585156</td>\n",
              "      <td>-73.959119</td>\n",
              "      <td>(40.585155533520144, -73.95911915841708)</td>\n",
              "      <td>315</td>\n",
              "    </tr>\n",
              "    <tr>\n",
              "      <th>14</th>\n",
              "      <td>14</td>\n",
              "      <td>14</td>\n",
              "      <td>39886470</td>\n",
              "      <td>08/01/2018 12:06:05 AM</td>\n",
              "      <td>08/01/2018 12:06:05 AM</td>\n",
              "      <td>DOT</td>\n",
              "      <td>Department of Transportation</td>\n",
              "      <td>Street Condition</td>\n",
              "      <td>Pothole</td>\n",
              "      <td>NaN</td>\n",
              "      <td>11235</td>\n",
              "      <td>3153 SHORE PARKWAY</td>\n",
              "      <td>SHORE PARKWAY</td>\n",
              "      <td>EAST   11 STREET</td>\n",
              "      <td>EAST   12 STREET</td>\n",
              "      <td>NaN</td>\n",
              "      <td>NaN</td>\n",
              "      <td>ADDRESS</td>\n",
              "      <td>BROOKLYN</td>\n",
              "      <td>NaN</td>\n",
              "      <td>NaN</td>\n",
              "      <td>Closed</td>\n",
              "      <td>NaN</td>\n",
              "      <td>The Department of Transportation determined th...</td>\n",
              "      <td>08/01/2018 12:06:05 AM</td>\n",
              "      <td>15 BROOKLYN</td>\n",
              "      <td>3.074550e+09</td>\n",
              "      <td>BROOKLYN</td>\n",
              "      <td>995747.0</td>\n",
              "      <td>152490.0</td>\n",
              "      <td>UNKNOWN</td>\n",
              "      <td>Unspecified</td>\n",
              "      <td>BROOKLYN</td>\n",
              "      <td>NaN</td>\n",
              "      <td>NaN</td>\n",
              "      <td>NaN</td>\n",
              "      <td>NaN</td>\n",
              "      <td>NaN</td>\n",
              "      <td>NaN</td>\n",
              "      <td>NaN</td>\n",
              "      <td>40.585218</td>\n",
              "      <td>-73.958608</td>\n",
              "      <td>(40.58521848090658, -73.95860788382927)</td>\n",
              "      <td>315</td>\n",
              "    </tr>\n",
              "    <tr>\n",
              "      <th>27</th>\n",
              "      <td>27</td>\n",
              "      <td>27</td>\n",
              "      <td>39878305</td>\n",
              "      <td>08/01/2018 12:07:41 AM</td>\n",
              "      <td>08/01/2018 12:07:41 AM</td>\n",
              "      <td>DOT</td>\n",
              "      <td>Department of Transportation</td>\n",
              "      <td>Street Condition</td>\n",
              "      <td>Pothole</td>\n",
              "      <td>NaN</td>\n",
              "      <td>11235</td>\n",
              "      <td>3167 SHORE PARKWAY</td>\n",
              "      <td>SHORE PARKWAY</td>\n",
              "      <td>EAST   11 STREET</td>\n",
              "      <td>EAST   12 STREET</td>\n",
              "      <td>NaN</td>\n",
              "      <td>NaN</td>\n",
              "      <td>ADDRESS</td>\n",
              "      <td>BROOKLYN</td>\n",
              "      <td>NaN</td>\n",
              "      <td>NaN</td>\n",
              "      <td>Closed</td>\n",
              "      <td>NaN</td>\n",
              "      <td>The Department of Transportation determined th...</td>\n",
              "      <td>08/01/2018 12:07:41 AM</td>\n",
              "      <td>15 BROOKLYN</td>\n",
              "      <td>3.074550e+09</td>\n",
              "      <td>BROOKLYN</td>\n",
              "      <td>995832.0</td>\n",
              "      <td>152503.0</td>\n",
              "      <td>UNKNOWN</td>\n",
              "      <td>Unspecified</td>\n",
              "      <td>BROOKLYN</td>\n",
              "      <td>NaN</td>\n",
              "      <td>NaN</td>\n",
              "      <td>NaN</td>\n",
              "      <td>NaN</td>\n",
              "      <td>NaN</td>\n",
              "      <td>NaN</td>\n",
              "      <td>NaN</td>\n",
              "      <td>40.585254</td>\n",
              "      <td>-73.958302</td>\n",
              "      <td>(40.585254052666755, -73.95830184003603)</td>\n",
              "      <td>315</td>\n",
              "    </tr>\n",
              "    <tr>\n",
              "      <th>37</th>\n",
              "      <td>37</td>\n",
              "      <td>37</td>\n",
              "      <td>39883091</td>\n",
              "      <td>08/01/2018 12:12:31 AM</td>\n",
              "      <td>08/07/2018 11:00:00 AM</td>\n",
              "      <td>DOT</td>\n",
              "      <td>Department of Transportation</td>\n",
              "      <td>Street Condition</td>\n",
              "      <td>Pothole</td>\n",
              "      <td>NaN</td>\n",
              "      <td>10023</td>\n",
              "      <td>NaN</td>\n",
              "      <td>NaN</td>\n",
              "      <td>NaN</td>\n",
              "      <td>NaN</td>\n",
              "      <td>AMSTERDAM AVENUE</td>\n",
              "      <td>WEST 71 STREET</td>\n",
              "      <td>INTERSECTION</td>\n",
              "      <td>NEW YORK</td>\n",
              "      <td>NaN</td>\n",
              "      <td>NaN</td>\n",
              "      <td>Closed</td>\n",
              "      <td>NaN</td>\n",
              "      <td>The Department of Transportation inspected thi...</td>\n",
              "      <td>08/07/2018 11:00:00 AM</td>\n",
              "      <td>07 MANHATTAN</td>\n",
              "      <td>NaN</td>\n",
              "      <td>MANHATTAN</td>\n",
              "      <td>989192.0</td>\n",
              "      <td>222714.0</td>\n",
              "      <td>UNKNOWN</td>\n",
              "      <td>Unspecified</td>\n",
              "      <td>MANHATTAN</td>\n",
              "      <td>NaN</td>\n",
              "      <td>NaN</td>\n",
              "      <td>NaN</td>\n",
              "      <td>NaN</td>\n",
              "      <td>NaN</td>\n",
              "      <td>NaN</td>\n",
              "      <td>NaN</td>\n",
              "      <td>40.777973</td>\n",
              "      <td>-73.982156</td>\n",
              "      <td>(40.77797338024307, -73.98215604395112)</td>\n",
              "      <td>107</td>\n",
              "    </tr>\n",
              "    <tr>\n",
              "      <th>38</th>\n",
              "      <td>38</td>\n",
              "      <td>38</td>\n",
              "      <td>39886619</td>\n",
              "      <td>08/01/2018 12:13:00 AM</td>\n",
              "      <td>08/01/2018 09:05:00 AM</td>\n",
              "      <td>DOT</td>\n",
              "      <td>Department of Transportation</td>\n",
              "      <td>Street Light Condition</td>\n",
              "      <td>Street Light Out</td>\n",
              "      <td>NaN</td>\n",
              "      <td>11219</td>\n",
              "      <td>1335 45 STREET</td>\n",
              "      <td>45 STREET</td>\n",
              "      <td>13 AVE</td>\n",
              "      <td>14 AVE</td>\n",
              "      <td>45 STREET</td>\n",
              "      <td>13 AVENUE</td>\n",
              "      <td>INTERSECTION</td>\n",
              "      <td>BROOKLYN</td>\n",
              "      <td>NaN</td>\n",
              "      <td>NaN</td>\n",
              "      <td>Closed</td>\n",
              "      <td>NaN</td>\n",
              "      <td>Service Request status for this request is ava...</td>\n",
              "      <td>08/01/2018 09:05:00 AM</td>\n",
              "      <td>12 BROOKLYN</td>\n",
              "      <td>3.056110e+09</td>\n",
              "      <td>BROOKLYN</td>\n",
              "      <td>987084.0</td>\n",
              "      <td>171449.0</td>\n",
              "      <td>UNKNOWN</td>\n",
              "      <td>Unspecified</td>\n",
              "      <td>BROOKLYN</td>\n",
              "      <td>NaN</td>\n",
              "      <td>NaN</td>\n",
              "      <td>NaN</td>\n",
              "      <td>NaN</td>\n",
              "      <td>NaN</td>\n",
              "      <td>NaN</td>\n",
              "      <td>NaN</td>\n",
              "      <td>40.637264</td>\n",
              "      <td>-73.989789</td>\n",
              "      <td>(40.637264036658976, -73.98978892381356)</td>\n",
              "      <td>312</td>\n",
              "    </tr>\n",
              "  </tbody>\n",
              "</table>\n",
              "</div>"
            ],
            "text/plain": [
              "    Unnamed: 0  Unnamed: 0.1  unique_key            created_date  \\\n",
              "12          12            12    39885889  08/01/2018 12:05:13 AM   \n",
              "14          14            14    39886470  08/01/2018 12:06:05 AM   \n",
              "27          27            27    39878305  08/01/2018 12:07:41 AM   \n",
              "37          37            37    39883091  08/01/2018 12:12:31 AM   \n",
              "38          38            38    39886619  08/01/2018 12:13:00 AM   \n",
              "\n",
              "               closed_date agency                   agency_name  \\\n",
              "12  08/01/2018 12:05:13 AM    DOT  Department of Transportation   \n",
              "14  08/01/2018 12:06:05 AM    DOT  Department of Transportation   \n",
              "27  08/01/2018 12:07:41 AM    DOT  Department of Transportation   \n",
              "37  08/07/2018 11:00:00 AM    DOT  Department of Transportation   \n",
              "38  08/01/2018 09:05:00 AM    DOT  Department of Transportation   \n",
              "\n",
              "            complaint_type        descriptor location_type incident_zip  \\\n",
              "12        Street Condition           Pothole           NaN        11235   \n",
              "14        Street Condition           Pothole           NaN        11235   \n",
              "27        Street Condition           Pothole           NaN        11235   \n",
              "37        Street Condition           Pothole           NaN        10023   \n",
              "38  Street Light Condition  Street Light Out           NaN        11219   \n",
              "\n",
              "      incident_address    street_name    cross_street_1    cross_street_2  \\\n",
              "12  3143 SHORE PARKWAY  SHORE PARKWAY  EAST   11 STREET  EAST   12 STREET   \n",
              "14  3153 SHORE PARKWAY  SHORE PARKWAY  EAST   11 STREET  EAST   12 STREET   \n",
              "27  3167 SHORE PARKWAY  SHORE PARKWAY  EAST   11 STREET  EAST   12 STREET   \n",
              "37                 NaN            NaN               NaN               NaN   \n",
              "38      1335 45 STREET      45 STREET            13 AVE            14 AVE   \n",
              "\n",
              "   intersection_street_1 intersection_street_2  address_type      city  \\\n",
              "12                   NaN                   NaN       ADDRESS  BROOKLYN   \n",
              "14                   NaN                   NaN       ADDRESS  BROOKLYN   \n",
              "27                   NaN                   NaN       ADDRESS  BROOKLYN   \n",
              "37      AMSTERDAM AVENUE        WEST 71 STREET  INTERSECTION  NEW YORK   \n",
              "38             45 STREET             13 AVENUE  INTERSECTION  BROOKLYN   \n",
              "\n",
              "   landmark facility_type  status due_date  \\\n",
              "12      NaN           NaN  Closed      NaN   \n",
              "14      NaN           NaN  Closed      NaN   \n",
              "27      NaN           NaN  Closed      NaN   \n",
              "37      NaN           NaN  Closed      NaN   \n",
              "38      NaN           NaN  Closed      NaN   \n",
              "\n",
              "                               resolution_description  \\\n",
              "12  The Department of Transportation determined th...   \n",
              "14  The Department of Transportation determined th...   \n",
              "27  The Department of Transportation determined th...   \n",
              "37  The Department of Transportation inspected thi...   \n",
              "38  Service Request status for this request is ava...   \n",
              "\n",
              "   resolution_action_updated_date community_board           bbl    borough  \\\n",
              "12         08/01/2018 12:05:13 AM     15 BROOKLYN  3.074550e+09   BROOKLYN   \n",
              "14         08/01/2018 12:06:05 AM     15 BROOKLYN  3.074550e+09   BROOKLYN   \n",
              "27         08/01/2018 12:07:41 AM     15 BROOKLYN  3.074550e+09   BROOKLYN   \n",
              "37         08/07/2018 11:00:00 AM    07 MANHATTAN           NaN  MANHATTAN   \n",
              "38         08/01/2018 09:05:00 AM     12 BROOKLYN  3.056110e+09   BROOKLYN   \n",
              "\n",
              "    x_coordinate_(state_plane)  y_coordinate_(state_plane)  \\\n",
              "12                    995605.0                    152467.0   \n",
              "14                    995747.0                    152490.0   \n",
              "27                    995832.0                    152503.0   \n",
              "37                    989192.0                    222714.0   \n",
              "38                    987084.0                    171449.0   \n",
              "\n",
              "   open_data_channel_type park_facility_name park_borough vehicle_type  \\\n",
              "12                UNKNOWN        Unspecified     BROOKLYN          NaN   \n",
              "14                UNKNOWN        Unspecified     BROOKLYN          NaN   \n",
              "27                UNKNOWN        Unspecified     BROOKLYN          NaN   \n",
              "37                UNKNOWN        Unspecified    MANHATTAN          NaN   \n",
              "38                UNKNOWN        Unspecified     BROOKLYN          NaN   \n",
              "\n",
              "   taxi_company_borough taxi_pick_up_location bridge_highway_name  \\\n",
              "12                  NaN                   NaN                 NaN   \n",
              "14                  NaN                   NaN                 NaN   \n",
              "27                  NaN                   NaN                 NaN   \n",
              "37                  NaN                   NaN                 NaN   \n",
              "38                  NaN                   NaN                 NaN   \n",
              "\n",
              "   bridge_highway_direction road_ramp bridge_highway_segment   latitude  \\\n",
              "12                      NaN       NaN                    NaN  40.585156   \n",
              "14                      NaN       NaN                    NaN  40.585218   \n",
              "27                      NaN       NaN                    NaN  40.585254   \n",
              "37                      NaN       NaN                    NaN  40.777973   \n",
              "38                      NaN       NaN                    NaN  40.637264   \n",
              "\n",
              "    longitude                                  location  borocd  \n",
              "12 -73.959119  (40.585155533520144, -73.95911915841708)     315  \n",
              "14 -73.958608   (40.58521848090658, -73.95860788382927)     315  \n",
              "27 -73.958302  (40.585254052666755, -73.95830184003603)     315  \n",
              "37 -73.982156   (40.77797338024307, -73.98215604395112)     107  \n",
              "38 -73.989789  (40.637264036658976, -73.98978892381356)     312  "
            ]
          },
          "metadata": {
            "tags": []
          },
          "execution_count": 12
        }
      ]
    },
    {
      "cell_type": "markdown",
      "metadata": {
        "id": "V2b4NrOM2Jwm",
        "colab_type": "text"
      },
      "source": [
        "Step 3. Write out the hypothesis for your analysis. What relationship are you expecting to find between the variables and why?"
      ]
    },
    {
      "cell_type": "markdown",
      "metadata": {
        "id": "z85oC8HF2yCw",
        "colab_type": "text"
      },
      "source": [
        "Hypothesis:\n",
        "Areas with lower rates of poverty submit more complaints relating to street and sidewalk conditions.\n",
        "\n",
        "I am expecting to see a higher number of count requests related to road conditions for CDs with lower rates of poverty. My thinking is that these citizens may be more concerned about their property values and appearances than those persons in areas with higher rates of poverty. Persons in areas with higher rates of poverty, I hypothesize, are more concerned with issues directly affecting their families and day to day lives such as housing conditions, heat, food, etc.). Persons with lower rates of poverty do not need to worry about these conditions as much and so have more time that they can devote to reporting poor road and sidewalk conditions. "
      ]
    },
    {
      "cell_type": "markdown",
      "metadata": {
        "id": "7MJxUyfk2Jt1",
        "colab_type": "text"
      },
      "source": [
        "Step 4. Get the count of 311 complaints per community district (borocd) using the filtered dataframe you created in Step 2."
      ]
    },
    {
      "cell_type": "code",
      "metadata": {
        "id": "t8A9juJl4t14",
        "colab_type": "code",
        "outputId": "9ceda50a-7bc3-4984-f949-6bc7c75305aa",
        "colab": {
          "base_uri": "https://localhost:8080/",
          "height": 359
        }
      },
      "source": [
        "# rank = subset.groupby(['complaint_type']).size().nlargest().reset_index(name='count_requests')\n",
        "# print(rank)\n",
        "\n",
        "#grouping by date, year, complaint type and getting counts\n",
        "filtered311 = subset.groupby(['borocd', 'complaint_type']).size().reset_index(name='count_requests')\n",
        "filtered311.head(10)"
      ],
      "execution_count": 13,
      "outputs": [
        {
          "output_type": "execute_result",
          "data": {
            "text/html": [
              "<div>\n",
              "<style scoped>\n",
              "    .dataframe tbody tr th:only-of-type {\n",
              "        vertical-align: middle;\n",
              "    }\n",
              "\n",
              "    .dataframe tbody tr th {\n",
              "        vertical-align: top;\n",
              "    }\n",
              "\n",
              "    .dataframe thead th {\n",
              "        text-align: right;\n",
              "    }\n",
              "</style>\n",
              "<table border=\"1\" class=\"dataframe\">\n",
              "  <thead>\n",
              "    <tr style=\"text-align: right;\">\n",
              "      <th></th>\n",
              "      <th>borocd</th>\n",
              "      <th>complaint_type</th>\n",
              "      <th>count_requests</th>\n",
              "    </tr>\n",
              "  </thead>\n",
              "  <tbody>\n",
              "    <tr>\n",
              "      <th>0</th>\n",
              "      <td>101</td>\n",
              "      <td>Sidewalk Condition</td>\n",
              "      <td>412</td>\n",
              "    </tr>\n",
              "    <tr>\n",
              "      <th>1</th>\n",
              "      <td>101</td>\n",
              "      <td>Street Condition</td>\n",
              "      <td>948</td>\n",
              "    </tr>\n",
              "    <tr>\n",
              "      <th>2</th>\n",
              "      <td>101</td>\n",
              "      <td>Street Light Condition</td>\n",
              "      <td>406</td>\n",
              "    </tr>\n",
              "    <tr>\n",
              "      <th>3</th>\n",
              "      <td>102</td>\n",
              "      <td>Sidewalk Condition</td>\n",
              "      <td>545</td>\n",
              "    </tr>\n",
              "    <tr>\n",
              "      <th>4</th>\n",
              "      <td>102</td>\n",
              "      <td>Street Condition</td>\n",
              "      <td>1460</td>\n",
              "    </tr>\n",
              "    <tr>\n",
              "      <th>5</th>\n",
              "      <td>102</td>\n",
              "      <td>Street Light Condition</td>\n",
              "      <td>368</td>\n",
              "    </tr>\n",
              "    <tr>\n",
              "      <th>6</th>\n",
              "      <td>103</td>\n",
              "      <td>Sidewalk Condition</td>\n",
              "      <td>482</td>\n",
              "    </tr>\n",
              "    <tr>\n",
              "      <th>7</th>\n",
              "      <td>103</td>\n",
              "      <td>Street Condition</td>\n",
              "      <td>1369</td>\n",
              "    </tr>\n",
              "    <tr>\n",
              "      <th>8</th>\n",
              "      <td>103</td>\n",
              "      <td>Street Light Condition</td>\n",
              "      <td>348</td>\n",
              "    </tr>\n",
              "    <tr>\n",
              "      <th>9</th>\n",
              "      <td>104</td>\n",
              "      <td>Sidewalk Condition</td>\n",
              "      <td>487</td>\n",
              "    </tr>\n",
              "  </tbody>\n",
              "</table>\n",
              "</div>"
            ],
            "text/plain": [
              "   borocd          complaint_type  count_requests\n",
              "0     101      Sidewalk Condition             412\n",
              "1     101        Street Condition             948\n",
              "2     101  Street Light Condition             406\n",
              "3     102      Sidewalk Condition             545\n",
              "4     102        Street Condition            1460\n",
              "5     102  Street Light Condition             368\n",
              "6     103      Sidewalk Condition             482\n",
              "7     103        Street Condition            1369\n",
              "8     103  Street Light Condition             348\n",
              "9     104      Sidewalk Condition             487"
            ]
          },
          "metadata": {
            "tags": []
          },
          "execution_count": 13
        }
      ]
    },
    {
      "cell_type": "markdown",
      "metadata": {
        "id": "f_yjJo6d2JgW",
        "colab_type": "text"
      },
      "source": [
        "Step 5. Join the indicator dataframe (from Step 1) with 311 counts dataframe (from Step 4) using the borocd value.\n"
      ]
    },
    {
      "cell_type": "code",
      "metadata": {
        "id": "FpFKTOMSLEff",
        "colab_type": "code",
        "outputId": "cc1a06e4-cc13-4ffd-b992-53d0c9e3f0b1",
        "colab": {
          "base_uri": "https://localhost:8080/",
          "height": 669
        }
      },
      "source": [
        "merged = pd.merge(left=filtered311, right=cdprof, left_on='borocd', right_on='borocd')\n",
        "merged.head(20)\n",
        "#### At least a few borocds have the same poverty_rates!!"
      ],
      "execution_count": 14,
      "outputs": [
        {
          "output_type": "execute_result",
          "data": {
            "text/html": [
              "<div>\n",
              "<style scoped>\n",
              "    .dataframe tbody tr th:only-of-type {\n",
              "        vertical-align: middle;\n",
              "    }\n",
              "\n",
              "    .dataframe tbody tr th {\n",
              "        vertical-align: top;\n",
              "    }\n",
              "\n",
              "    .dataframe thead th {\n",
              "        text-align: right;\n",
              "    }\n",
              "</style>\n",
              "<table border=\"1\" class=\"dataframe\">\n",
              "  <thead>\n",
              "    <tr style=\"text-align: right;\">\n",
              "      <th></th>\n",
              "      <th>borocd</th>\n",
              "      <th>complaint_type</th>\n",
              "      <th>count_requests</th>\n",
              "      <th>poverty_rate</th>\n",
              "    </tr>\n",
              "  </thead>\n",
              "  <tbody>\n",
              "    <tr>\n",
              "      <th>0</th>\n",
              "      <td>101</td>\n",
              "      <td>Sidewalk Condition</td>\n",
              "      <td>412</td>\n",
              "      <td>8.8</td>\n",
              "    </tr>\n",
              "    <tr>\n",
              "      <th>1</th>\n",
              "      <td>101</td>\n",
              "      <td>Street Condition</td>\n",
              "      <td>948</td>\n",
              "      <td>8.8</td>\n",
              "    </tr>\n",
              "    <tr>\n",
              "      <th>2</th>\n",
              "      <td>101</td>\n",
              "      <td>Street Light Condition</td>\n",
              "      <td>406</td>\n",
              "      <td>8.8</td>\n",
              "    </tr>\n",
              "    <tr>\n",
              "      <th>3</th>\n",
              "      <td>102</td>\n",
              "      <td>Sidewalk Condition</td>\n",
              "      <td>545</td>\n",
              "      <td>8.8</td>\n",
              "    </tr>\n",
              "    <tr>\n",
              "      <th>4</th>\n",
              "      <td>102</td>\n",
              "      <td>Street Condition</td>\n",
              "      <td>1460</td>\n",
              "      <td>8.8</td>\n",
              "    </tr>\n",
              "    <tr>\n",
              "      <th>5</th>\n",
              "      <td>102</td>\n",
              "      <td>Street Light Condition</td>\n",
              "      <td>368</td>\n",
              "      <td>8.8</td>\n",
              "    </tr>\n",
              "    <tr>\n",
              "      <th>6</th>\n",
              "      <td>103</td>\n",
              "      <td>Sidewalk Condition</td>\n",
              "      <td>482</td>\n",
              "      <td>19.3</td>\n",
              "    </tr>\n",
              "    <tr>\n",
              "      <th>7</th>\n",
              "      <td>103</td>\n",
              "      <td>Street Condition</td>\n",
              "      <td>1369</td>\n",
              "      <td>19.3</td>\n",
              "    </tr>\n",
              "    <tr>\n",
              "      <th>8</th>\n",
              "      <td>103</td>\n",
              "      <td>Street Light Condition</td>\n",
              "      <td>348</td>\n",
              "      <td>19.3</td>\n",
              "    </tr>\n",
              "    <tr>\n",
              "      <th>9</th>\n",
              "      <td>104</td>\n",
              "      <td>Sidewalk Condition</td>\n",
              "      <td>487</td>\n",
              "      <td>11.3</td>\n",
              "    </tr>\n",
              "    <tr>\n",
              "      <th>10</th>\n",
              "      <td>104</td>\n",
              "      <td>Street Condition</td>\n",
              "      <td>1523</td>\n",
              "      <td>11.3</td>\n",
              "    </tr>\n",
              "    <tr>\n",
              "      <th>11</th>\n",
              "      <td>104</td>\n",
              "      <td>Street Light Condition</td>\n",
              "      <td>12</td>\n",
              "      <td>11.3</td>\n",
              "    </tr>\n",
              "    <tr>\n",
              "      <th>12</th>\n",
              "      <td>105</td>\n",
              "      <td>Sidewalk Condition</td>\n",
              "      <td>480</td>\n",
              "      <td>11.3</td>\n",
              "    </tr>\n",
              "    <tr>\n",
              "      <th>13</th>\n",
              "      <td>105</td>\n",
              "      <td>Street Condition</td>\n",
              "      <td>1915</td>\n",
              "      <td>11.3</td>\n",
              "    </tr>\n",
              "    <tr>\n",
              "      <th>14</th>\n",
              "      <td>105</td>\n",
              "      <td>Street Light Condition</td>\n",
              "      <td>26</td>\n",
              "      <td>11.3</td>\n",
              "    </tr>\n",
              "    <tr>\n",
              "      <th>15</th>\n",
              "      <td>106</td>\n",
              "      <td>Sidewalk Condition</td>\n",
              "      <td>376</td>\n",
              "      <td>9.8</td>\n",
              "    </tr>\n",
              "    <tr>\n",
              "      <th>16</th>\n",
              "      <td>106</td>\n",
              "      <td>Street Condition</td>\n",
              "      <td>1515</td>\n",
              "      <td>9.8</td>\n",
              "    </tr>\n",
              "    <tr>\n",
              "      <th>17</th>\n",
              "      <td>106</td>\n",
              "      <td>Street Light Condition</td>\n",
              "      <td>2</td>\n",
              "      <td>9.8</td>\n",
              "    </tr>\n",
              "    <tr>\n",
              "      <th>18</th>\n",
              "      <td>107</td>\n",
              "      <td>Sidewalk Condition</td>\n",
              "      <td>566</td>\n",
              "      <td>9.2</td>\n",
              "    </tr>\n",
              "    <tr>\n",
              "      <th>19</th>\n",
              "      <td>107</td>\n",
              "      <td>Street Condition</td>\n",
              "      <td>1627</td>\n",
              "      <td>9.2</td>\n",
              "    </tr>\n",
              "  </tbody>\n",
              "</table>\n",
              "</div>"
            ],
            "text/plain": [
              "    borocd          complaint_type  count_requests  poverty_rate\n",
              "0      101      Sidewalk Condition             412           8.8\n",
              "1      101        Street Condition             948           8.8\n",
              "2      101  Street Light Condition             406           8.8\n",
              "3      102      Sidewalk Condition             545           8.8\n",
              "4      102        Street Condition            1460           8.8\n",
              "5      102  Street Light Condition             368           8.8\n",
              "6      103      Sidewalk Condition             482          19.3\n",
              "7      103        Street Condition            1369          19.3\n",
              "8      103  Street Light Condition             348          19.3\n",
              "9      104      Sidewalk Condition             487          11.3\n",
              "10     104        Street Condition            1523          11.3\n",
              "11     104  Street Light Condition              12          11.3\n",
              "12     105      Sidewalk Condition             480          11.3\n",
              "13     105        Street Condition            1915          11.3\n",
              "14     105  Street Light Condition              26          11.3\n",
              "15     106      Sidewalk Condition             376           9.8\n",
              "16     106        Street Condition            1515           9.8\n",
              "17     106  Street Light Condition               2           9.8\n",
              "18     107      Sidewalk Condition             566           9.2\n",
              "19     107        Street Condition            1627           9.2"
            ]
          },
          "metadata": {
            "tags": []
          },
          "execution_count": 14
        }
      ]
    },
    {
      "cell_type": "markdown",
      "metadata": {
        "id": "UXbKuReU2Jbs",
        "colab_type": "text"
      },
      "source": [
        "Step 6. Produce a scatter plot of the indicator values (x) vs. 311 complaint counts (y). There should be one point per community district."
      ]
    },
    {
      "cell_type": "code",
      "metadata": {
        "colab_type": "code",
        "outputId": "35557a4a-fe61-4836-b955-5c5bdf5577ec",
        "id": "pfGi5srVYqGT",
        "colab": {
          "base_uri": "https://localhost:8080/",
          "height": 404
        }
      },
      "source": [
        "# #plot recipe\n",
        "plt.figure(figsize=(15,6))\n",
        "\n",
        "for c in complaint_types:\n",
        "  by_ct = merged[merged['complaint_type']==c]\n",
        "  plt.scatter(\n",
        "  by_ct.poverty_rate,\n",
        "  by_ct.count_requests,\n",
        "  alpha=0.8,\n",
        "  s=50,\n",
        "  label=c\n",
        "  )\n",
        "  \n",
        "\n",
        "plt.title('Poverty Rate vs. 311 Request Counts of \"Condition\" Complaint Types')\n",
        "plt.xlabel('Poverty Rate by Community District')\n",
        "plt.ylabel('# of 311 Requests per Complaint Type')\n",
        "\n",
        "plt.legend(loc=2)\n",
        "\n",
        "plt.show()"
      ],
      "execution_count": 16,
      "outputs": [
        {
          "output_type": "display_data",
          "data": {
            "image/png": "[encoded data removed]",
            "text/plain": [
              "<Figure size 1080x432 with 1 Axes>"
            ]
          },
          "metadata": {
            "tags": []
          }
        }
      ]
    },
    {
      "cell_type": "markdown",
      "metadata": {
        "id": "Q-8DWW6Y2JTi",
        "colab_type": "text"
      },
      "source": [
        "Step 7. Conduct an OLS linear regression using the indicator values vs. 311 complaint counts and interpret the results."
      ]
    },
    {
      "cell_type": "code",
      "metadata": {
        "id": "_tSrZlOFovLF",
        "colab_type": "code",
        "outputId": "bd337f6e-fbeb-438d-fbf3-315a535e4cea",
        "colab": {
          "base_uri": "https://localhost:8080/",
          "height": 170
        }
      },
      "source": [
        "#Correlation Coefficients\n",
        "for c in complaint_types:\n",
        "  by_ct = merged[merged['complaint_type']==c]\n",
        "  x = np.array(by_ct.poverty_rate)\n",
        "  y = np.array(by_ct.count_requests)\n",
        "  print(c)\n",
        "  print((np.corrcoef(x, y)))"
      ],
      "execution_count": 17,
      "outputs": [
        {
          "output_type": "stream",
          "text": [
            "Street Condition\n",
            "[[ 1.         -0.42084643]\n",
            " [-0.42084643  1.        ]]\n",
            "Street Light Condition\n",
            "[[ 1.         -0.09617119]\n",
            " [-0.09617119  1.        ]]\n",
            "Sidewalk Condition\n",
            "[[ 1.         -0.29795449]\n",
            " [-0.29795449  1.        ]]\n"
          ],
          "name": "stdout"
        }
      ]
    },
    {
      "cell_type": "markdown",
      "metadata": {
        "id": "ELMAx60EH3Xv",
        "colab_type": "text"
      },
      "source": [
        "Street condition looks more strongly correlated to poverty rates than Street Light Condition or Sidewalk Condition. Street Light Condition and Sidewalk Condition appears to have approximately zero correlation and Street Condition looks only weakly correlated. All are negatively correlated."
      ]
    },
    {
      "cell_type": "code",
      "metadata": {
        "id": "lHk4R8nJ_Tkx",
        "colab_type": "code",
        "outputId": "441567c3-8acb-4e77-ba8c-38572dd73bf8",
        "colab": {
          "base_uri": "https://localhost:8080/",
          "height": 1000
        }
      },
      "source": [
        "#Considering my issues with for loops in HW6. I am really happy about this. \n",
        "parameters = []\n",
        "mylabels = []\n",
        "\n",
        "for c in complaint_types:\n",
        "  by_ct = merged[merged['complaint_type']==c]\n",
        "  x = np.array(by_ct.poverty_rate)\n",
        "  y = np.array(by_ct.count_requests)\n",
        "  x = sm.add_constant(x)\n",
        "  model = sm.OLS(y,x).fit()\n",
        "  print('\\n') ##empty returns for spacing\n",
        "  print('\\n')\n",
        "  print(c)\n",
        "  print(model.summary())\n",
        "  p = model.params # intercept and coefficient\n",
        "  print('\\n') ##empty returns for spacing\n",
        "  print(c)\n",
        "  print('parameters:', p)\n",
        "  r2 = model.rsquared\n",
        "  print('\\n') ##empty returns for spacing\n",
        "  print(c)\n",
        "  print('R2:', r2)\n",
        "  print('\\n') ##empty returns for spacing\n",
        "  print(c)\n",
        "  print(p)\n",
        "  label = 'y = ' + str(round(p[1],2)) + 'x + ' + str(round(p[0],2)) + '; R2 = ' + str(round(r2,3))\n",
        "  print(label)\n",
        "  print('\\n') ##empty returns for spacing\n",
        "  mylabels.append(label)\n",
        "  parameters.append(p)\n",
        "  \n",
        "print('Did it make a list of my line equations and my parameters for the lines?')\n",
        "print('mylabels:', mylabels)\n",
        "print('stored parameters:', parameters)"
      ],
      "execution_count": 18,
      "outputs": [
        {
          "output_type": "stream",
          "text": [
            "\n",
            "\n",
            "\n",
            "\n",
            "Street Condition\n",
            "                            OLS Regression Results                            \n",
            "==============================================================================\n",
            "Dep. Variable:                      y   R-squared:                       0.177\n",
            "Model:                            OLS   Adj. R-squared:                  0.163\n",
            "Method:                 Least Squares   F-statistic:                     12.27\n",
            "Date:                Mon, 16 Dec 2019   Prob (F-statistic):           0.000903\n",
            "Time:                        14:56:24   Log-Likelihood:                -475.93\n",
            "No. Observations:                  59   AIC:                             955.9\n",
            "Df Residuals:                      57   BIC:                             960.0\n",
            "Df Model:                           1                                         \n",
            "Covariance Type:            nonrobust                                         \n",
            "==============================================================================\n",
            "                 coef    std err          t      P>|t|      [0.025      0.975]\n",
            "------------------------------------------------------------------------------\n",
            "const       2614.5494    317.786      8.227      0.000    1978.193    3250.906\n",
            "x1           -52.8588     15.091     -3.503      0.001     -83.079     -22.639\n",
            "==============================================================================\n",
            "Omnibus:                       15.083   Durbin-Watson:                   1.203\n",
            "Prob(Omnibus):                  0.001   Jarque-Bera (JB):               16.787\n",
            "Skew:                           1.209   Prob(JB):                     0.000226\n",
            "Kurtosis:                       3.993   Cond. No.                         65.7\n",
            "==============================================================================\n",
            "\n",
            "Warnings:\n",
            "[1] Standard Errors assume that the covariance matrix of the errors is correctly specified.\n",
            "\n",
            "\n",
            "Street Condition\n",
            "parameters: [2614.54944219  -52.85883305]\n",
            "\n",
            "\n",
            "Street Condition\n",
            "R2: 0.1771117204495105\n",
            "\n",
            "\n",
            "Street Condition\n",
            "[2614.54944219  -52.85883305]\n",
            "y = -52.86x + 2614.55; R2 = 0.177\n",
            "\n",
            "\n",
            "\n",
            "\n",
            "\n",
            "\n",
            "Street Light Condition\n",
            "                            OLS Regression Results                            \n",
            "==============================================================================\n",
            "Dep. Variable:                      y   R-squared:                       0.009\n",
            "Model:                            OLS   Adj. R-squared:                 -0.008\n",
            "Method:                 Least Squares   F-statistic:                    0.5321\n",
            "Date:                Mon, 16 Dec 2019   Prob (F-statistic):              0.469\n",
            "Time:                        14:56:24   Log-Likelihood:                -457.82\n",
            "No. Observations:                  59   AIC:                             919.6\n",
            "Df Residuals:                      57   BIC:                             923.8\n",
            "Df Model:                           1                                         \n",
            "Covariance Type:            nonrobust                                         \n",
            "==============================================================================\n",
            "                 coef    std err          t      P>|t|      [0.025      0.975]\n",
            "------------------------------------------------------------------------------\n",
            "const        905.1999    233.781      3.872      0.000     437.062    1373.338\n",
            "x1            -8.0984     11.102     -0.729      0.469     -30.330      14.133\n",
            "==============================================================================\n",
            "Omnibus:                        2.763   Durbin-Watson:                   0.499\n",
            "Prob(Omnibus):                  0.251   Jarque-Bera (JB):                2.655\n",
            "Skew:                           0.465   Prob(JB):                        0.265\n",
            "Kurtosis:                       2.535   Cond. No.                         65.7\n",
            "==============================================================================\n",
            "\n",
            "Warnings:\n",
            "[1] Standard Errors assume that the covariance matrix of the errors is correctly specified.\n",
            "\n",
            "\n",
            "Street Light Condition\n",
            "parameters: [905.19993735  -8.0984244 ]\n",
            "\n",
            "\n",
            "Street Light Condition\n",
            "R2: 0.009248898051971932\n",
            "\n",
            "\n",
            "Street Light Condition\n",
            "[905.19993735  -8.0984244 ]\n",
            "y = -8.1x + 905.2; R2 = 0.009\n",
            "\n",
            "\n",
            "\n",
            "\n",
            "\n",
            "\n",
            "Sidewalk Condition\n",
            "                            OLS Regression Results                            \n",
            "==============================================================================\n",
            "Dep. Variable:                      y   R-squared:                       0.089\n",
            "Model:                            OLS   Adj. R-squared:                  0.073\n",
            "Method:                 Least Squares   F-statistic:                     5.553\n",
            "Date:                Mon, 16 Dec 2019   Prob (F-statistic):             0.0219\n",
            "Time:                        14:56:24   Log-Likelihood:                -428.23\n",
            "No. Observations:                  59   AIC:                             860.5\n",
            "Df Residuals:                      57   BIC:                             864.6\n",
            "Df Model:                           1                                         \n",
            "Covariance Type:            nonrobust                                         \n",
            "==============================================================================\n",
            "                 coef    std err          t      P>|t|      [0.025      0.975]\n",
            "------------------------------------------------------------------------------\n",
            "const        932.2316    141.580      6.584      0.000     648.722    1215.741\n",
            "x1           -15.8442      6.723     -2.357      0.022     -29.308      -2.381\n",
            "==============================================================================\n",
            "Omnibus:                       17.181   Durbin-Watson:                   1.585\n",
            "Prob(Omnibus):                  0.000   Jarque-Bera (JB):               20.401\n",
            "Skew:                           1.254   Prob(JB):                     3.71e-05\n",
            "Kurtosis:                       4.418   Cond. No.                         65.7\n",
            "==============================================================================\n",
            "\n",
            "Warnings:\n",
            "[1] Standard Errors assume that the covariance matrix of the errors is correctly specified.\n",
            "\n",
            "\n",
            "Sidewalk Condition\n",
            "parameters: [932.23158002 -15.84416763]\n",
            "\n",
            "\n",
            "Sidewalk Condition\n",
            "R2: 0.0887768792248903\n",
            "\n",
            "\n",
            "Sidewalk Condition\n",
            "[932.23158002 -15.84416763]\n",
            "y = -15.84x + 932.23; R2 = 0.089\n",
            "\n",
            "\n",
            "Did it make a list of my line equations and my parameters for the lines?\n",
            "mylabels: ['y = -52.86x + 2614.55; R2 = 0.177', 'y = -8.1x + 905.2; R2 = 0.009', 'y = -15.84x + 932.23; R2 = 0.089']\n",
            "stored parameters: [array([2614.54944219,  -52.85883305]), array([905.19993735,  -8.0984244 ]), array([932.23158002, -15.84416763])]\n"
          ],
          "name": "stdout"
        }
      ]
    },
    {
      "cell_type": "markdown",
      "metadata": {
        "id": "svhxSej92Isj",
        "colab_type": "text"
      },
      "source": [
        "Step 8. Use the linear regression results to add a line of best fit to your scatterplot."
      ]
    },
    {
      "cell_type": "code",
      "metadata": {
        "id": "4asWeuxWkhsm",
        "colab_type": "code",
        "colab": {
          "base_uri": "https://localhost:8080/",
          "height": 404
        },
        "outputId": "9a576718-9f07-4f94-aed6-46191eaf17c3"
      },
      "source": [
        "# #plot recipe\n",
        "\n",
        "\n",
        "plt.figure(figsize=(15,6))\n",
        "\n",
        "for c in complaint_types:\n",
        "  by_ct = merged[merged['complaint_type']==c]\n",
        "  plt.scatter(\n",
        "  by_ct.poverty_rate,\n",
        "  by_ct.count_requests,\n",
        "  alpha=0.8,\n",
        "  s=50,\n",
        "  label=c\n",
        "  )\n",
        "\n",
        "x_dummy = np.array(by_ct.poverty_rate)\n",
        "\n",
        "for c, p, linelabel in zip(complaint_types, parameters, mylabels):\n",
        "  by_ct = merged[merged['complaint_type']==c]\n",
        "  plt.plot(\n",
        "  x_dummy,\n",
        "  p[0] + p[1] * x_dummy,\n",
        "  label=linelabel\n",
        "  )\n",
        "\n",
        "plt.title('Poverty Rate vs. 311 Request Counts of \"Condition\" Complaint Types')\n",
        "plt.xlabel('Poverty Rate by Community District')\n",
        "plt.ylabel('# of 311 Requests per Complaint Type')\n",
        "\n",
        "plt.legend(loc=2)\n",
        "\n",
        "plt.show()"
      ],
      "execution_count": 20,
      "outputs": [
        {
          "output_type": "display_data",
          "data": {
            "image/png": "[encoded data removed]",
            "text/plain": [
              "<Figure size 1080x432 with 1 Axes>"
            ]
          },
          "metadata": {
            "tags": []
          }
        }
      ]
    },
    {
      "cell_type": "code",
      "metadata": {
        "id": "MaP55wrC7ZJx",
        "colab_type": "code",
        "colab": {
          "base_uri": "https://localhost:8080/",
          "height": 221
        },
        "outputId": "c084315f-49f5-40d4-c090-574dbeaf0262"
      },
      "source": [
        "for c in complaint_types:\n",
        "  by_ct = merged[merged['complaint_type']==c]\n",
        "  print(c)\n",
        "  print(by_ct.poverty_rate.max())\n",
        "  print(c)\n",
        "  print(by_ct.poverty_rate.min())"
      ],
      "execution_count": 21,
      "outputs": [
        {
          "output_type": "stream",
          "text": [
            "Street Condition\n",
            "35.6\n",
            "Street Condition\n",
            "7.2\n",
            "Street Light Condition\n",
            "35.6\n",
            "Street Light Condition\n",
            "7.2\n",
            "Sidewalk Condition\n",
            "35.6\n",
            "Sidewalk Condition\n",
            "7.2\n"
          ],
          "name": "stdout"
        }
      ]
    },
    {
      "cell_type": "markdown",
      "metadata": {
        "id": "yYWJTa833X-o",
        "colab_type": "text"
      },
      "source": [
        "Step 9. Write a paragraph explaining the results of your analysis? Have you found a meaningful relationship?"
      ]
    },
    {
      "cell_type": "markdown",
      "metadata": {
        "id": "miI0OxiV5Lxf",
        "colab_type": "text"
      },
      "source": [
        "Some basic observations of what I see here, Street Condition has a weak negative correlation. Sidewalk and street light condition have zero correlation, or at least, \"close enough to zero.\"\n",
        "\n",
        "I think that there are factors that are not adequately taken into account for this, and I allude to this in my research question. The first one I think about is the question of funding. I am unaware of how NYC distributes its funding for road improvements across the five boroughs. Perhaps there is a bias, and perhaps there is not. This would be interesting to look at. The other thing that I found surprising was how clustered together the data points are around a poverty rate of 20%. The poverty rate indicates the percentages of residents that are below the NYCgov poverty threshold. Are the individuals living in CDs with a poverty rate of less than 15% in better kept areas, due to the affluence of the region and therefore less affected by road conditions? Because the city government takes more care? Or are these areas less trafficked by heavy trucks/buses which can damage roadways, especially in winter with the freeze/thaw cycles?\n",
        "\n",
        "Another question, which is less valid in other cities, but very valid in NYC, is how many residents per CD drive a vehicle on a regular basis. NYC is notorious for traffic and parking nightmares, and often when \"new\" people move to the city they do not bring a vehicle. I am lucky to have a car and bicycle, but many people do not have either so they walk or take transit. Do the areas with higher Street Condition complaints have more residents with vehicles? Are persons commuting/driving more in general in that area? Are these areas frequently trafficked by trucks, commuters, etc., and is a high volume thoroughfare? Another caveat: Persons who walk to and from the subway/bus stop every day are not likely to report a pothole in the roadway. Similar reasoning, persons who walk some distance to transit are more likely to report sidewalk conditions than the person in their car driving past. A few mores wrinkles in this is that a person or family may be above the poverty threshold but not own a vehicle, or be \"affluent.\" The poverty threshold for 2016 was 34,402. This level of income is still rather low and we aren't aware if this is by individual or family unit; it's likely a mix of both or by \"household.\" In a city such as NYC, owning a vehicle or not isn't necessarily an indicator of affluence. Also, an individual or family at $35k of income would still be struggling financially despite being above the poverty threshold. \n",
        "\n",
        "If I were to continue this analysis, I would like to know more traffic and vehicle data. How busy are the roads/sidewalks and what makes up the road and foot traffic? How many residents have vehicles? How is the funding for infrastructure improvements distributed among CDs? That information would help make a more informed picture. Additionally, rent burden would be an interesting indicator to look at. "
      ]
    },
    {
      "cell_type": "code",
      "metadata": {
        "id": "9jlauxvyCdDp",
        "colab_type": "code",
        "colab": {
          "base_uri": "https://localhost:8080/",
          "height": 404
        },
        "outputId": "6048b2d5-86fe-4fac-a1b6-61dd0267c747"
      },
      "source": [
        "# Histogram for fun. As I was going through things, I had wondered what a histogram of the data would look like and whether it followed a normal distribution. \n",
        "plt.figure(figsize=(15,6))\n",
        "\n",
        "for c in complaint_types:\n",
        "  by_ct = merged[merged['complaint_type']==c]\n",
        "  plt.hist(\n",
        "  by_ct.poverty_rate,\n",
        "  bins=20,\n",
        "  stacked=True, \n",
        "  weights=by_ct.count_requests,\n",
        "  label=c\n",
        "  )\n",
        "  \n",
        "  \n",
        "plt.title('Poverty Rate vs. 311 Request Counts of \"Condition\" Complaint Types')\n",
        "plt.xlabel('Poverty Rate by Community District')\n",
        "plt.ylabel('# of 311 Requests per Complaint Type')\n",
        "\n",
        "plt.legend(loc=2)\n",
        "\n",
        "plt.show()"
      ],
      "execution_count": 24,
      "outputs": [
        {
          "output_type": "display_data",
          "data": {
            "image/png": "[encoded data removed]",
            "text/plain": [
              "<Figure size 1080x432 with 1 Axes>"
            ]
          },
          "metadata": {
            "tags": []
          }
        }
      ]
    },
    {
      "cell_type": "code",
      "metadata": {
        "id": "tgtzrJqBEdYa",
        "colab_type": "code",
        "colab": {}
      },
      "source": [
        ""
      ],
      "execution_count": 0,
      "outputs": []
    }
  ]
}
