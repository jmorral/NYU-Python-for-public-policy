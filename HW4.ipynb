{
  "nbformat": 4,
  "nbformat_minor": 0,
  "metadata": {
    "colab": {
      "name": "HW4.ipynb",
      "provenance": [],
      "include_colab_link": true
    },
    "kernelspec": {
      "name": "python3",
      "display_name": "Python 3"
    }
  },
  "cells": [
    {
      "cell_type": "markdown",
      "metadata": {
        "id": "view-in-github",
        "colab_type": "text"
      },
      "source": [
        "<a href=\"https://colab.research.google.com/github/jmorral/nyu-python-public-policy/blob/master/HW4.ipynb\" target=\"_parent\"><img src=\"https://colab.research.google.com/assets/colab-badge.svg\" alt=\"Open In Colab\"/></a>"
      ]
    },
    {
      "cell_type": "code",
      "metadata": {
        "id": "W7IOoBBfTGag",
        "colab_type": "code",
        "outputId": "f4bebc06-0e2c-4f91-e2f0-3e5652e3f2c6",
        "colab": {
          "base_uri": "https://localhost:8080/",
          "height": 122
        }
      },
      "source": [
        "import pandas as pd\n",
        "import matplotlib.pyplot as plt \n",
        "import numpy as np\n",
        "from google.colab import drive\n",
        "drive.mount('/content/drive', force_remount=True)"
      ],
      "execution_count": 1,
      "outputs": [
        {
          "output_type": "stream",
          "text": [
            "Go to this URL in a browser: https://accounts.google.com/o/oauth2/auth?client_id=947318989803-6bn6qk8qdgf4n4g3pfee6491hc0brc4i.apps.googleusercontent.com&redirect_uri=urn%3aietf%3awg%3aoauth%3a2.0%3aoob&response_type=code&scope=email%20https%3a%2f%2fwww.googleapis.com%2fauth%2fdocs.test%20https%3a%2f%2fwww.googleapis.com%2fauth%2fdrive%20https%3a%2f%2fwww.googleapis.com%2fauth%2fdrive.photos.readonly%20https%3a%2f%2fwww.googleapis.com%2fauth%2fpeopleapi.readonly\n",
            "\n",
            "Enter your authorization code:\n",
            "··········\n",
            "Mounted at /content/drive\n"
          ],
          "name": "stdout"
        }
      ]
    },
    {
      "cell_type": "code",
      "metadata": {
        "id": "Xptl8RJCTSbz",
        "colab_type": "code",
        "colab": {}
      },
      "source": [
        "pd.set_option('display.max_columns', None)\n",
        "pd.set_option('display.max_rows', None)"
      ],
      "execution_count": 0,
      "outputs": []
    },
    {
      "cell_type": "code",
      "metadata": {
        "id": "AdKj8Cmhm3_w",
        "colab_type": "code",
        "outputId": "4b0e9034-54ca-42ef-cbff-81b933dc8c18",
        "colab": {
          "base_uri": "https://localhost:8080/",
          "height": 71
        }
      },
      "source": [
        "df = pd.read_csv('/content/drive/My Drive/Data for Python/cleaned_311_data.csv', header='infer')"
      ],
      "execution_count": 3,
      "outputs": [
        {
          "output_type": "stream",
          "text": [
            "/usr/local/lib/python3.6/dist-packages/IPython/core/interactiveshell.py:2718: DtypeWarning: Columns (9,18,21,32,35) have mixed types. Specify dtype option on import or set low_memory=False.\n",
            "  interactivity=interactivity, compiler=compiler, result=result)\n"
          ],
          "name": "stderr"
        }
      ]
    },
    {
      "cell_type": "markdown",
      "metadata": {
        "id": "DlalmbvHWBAK",
        "colab_type": "text"
      },
      "source": [
        "Problem Statement: When comparing total 311 request counts per community district against the respective population, there seems to be a general trend that the higher the population, the higher the number of 311 requests. However, there is a lot of variance in the data. Maybe narrowing in on specific complaint type categories will help us better understand trends in 311 requests across the city.\n",
        "\n",
        "\"Noise\" and \"heat and hot water\" were the most frequest requests in the entire 311 dataset. Let's try isolating the count of requests in each of those two categories versus all the other complaints."
      ]
    },
    {
      "cell_type": "markdown",
      "metadata": {
        "id": "5iwPRZRsWTYg",
        "colab_type": "text"
      },
      "source": [
        "**Q1:** First you will need to prep your data to get the count of complaints in each of the three categories. You can update the code from lecture that gets the total count of 311 requests per CD to instead get the count of 311 requests per CD that meet the criteria for the 3 categories. You should create three seprate dataframes, one per category:\n",
        "\n",
        "*   complaint_type = 'Noise - Residential'\n",
        "*   complaint_type = 'HEAT/HOT WATER'\n",
        "*   Everything else: (complaint_type != 'Noise - Residential' and complaint_type != 'HEAT/HOT WATER')\n",
        "\n",
        "\n",
        "\n",
        "\n",
        "\n",
        "\n",
        "\n"
      ]
    },
    {
      "cell_type": "code",
      "metadata": {
        "id": "3YzMcx_gv-vR",
        "colab_type": "code",
        "colab": {}
      },
      "source": [
        "#Filtering by complaint_type\n",
        "noise = df[df.complaint_type == 'Noise - Residential']\n",
        "heatwater = df[df.complaint_type == 'HEAT/HOT WATER']\n",
        "other = df[(df.complaint_type != 'HEAT/HOT WATER') & (df.complaint_type != 'Noise - Residential')]"
      ],
      "execution_count": 0,
      "outputs": []
    },
    {
      "cell_type": "code",
      "metadata": {
        "id": "knzgXVVywPBN",
        "colab_type": "code",
        "outputId": "fc2a6548-9aec-4f82-8108-b2287dbb276b",
        "colab": {
          "base_uri": "https://localhost:8080/",
          "height": 85
        }
      },
      "source": [
        "count_noise = noise.groupby('community_board').size().reset_index(name='count_of_311_requests')\n",
        "print(len(count_noise))\n",
        "\n",
        "count_heatwater = heatwater.groupby('community_board').size().reset_index(name='count_of_311_requests')\n",
        "print(len(count_heatwater))\n",
        "\n",
        "count_other = other.groupby('community_board').size().reset_index(name='count_of_311_requests')\n",
        "print(len(count_other))\n",
        "\n",
        "# note: we won't use count_all in the charts, but we can use it as a check that the subsets all add up to the correct total\n",
        "count_all = df.groupby('community_board').size().reset_index(name='count_of_311_requests')\n",
        "print(len(count_all))"
      ],
      "execution_count": 5,
      "outputs": [
        {
          "output_type": "stream",
          "text": [
            "69\n",
            "66\n",
            "77\n",
            "77\n"
          ],
          "name": "stdout"
        }
      ]
    },
    {
      "cell_type": "code",
      "metadata": {
        "id": "y04sdb_-yFlY",
        "colab_type": "code",
        "colab": {}
      },
      "source": [
        "valid_borocds = ['101','102','103','104','105','106','107','108','109','110','111','112','201','202','203','204','205','206','207','208','209','210','211','212','301','302','303','304','305','306','307','308','309','310','311','312','313','314','315','316','317','318','401','402','403','404','405','406','407','408','409','410','411','412','413','414','501','502','503']"
      ],
      "execution_count": 0,
      "outputs": []
    },
    {
      "cell_type": "code",
      "metadata": {
        "id": "wI6DmHGyARtL",
        "colab_type": "code",
        "colab": {}
      },
      "source": [
        "#thought I needed this. Didn't.\n",
        "borocds_int = [int(i) for i in valid_borocds]\n"
      ],
      "execution_count": 0,
      "outputs": []
    },
    {
      "cell_type": "code",
      "metadata": {
        "id": "iYqg1ETsnfq8",
        "colab_type": "code",
        "cellView": "both",
        "colab": {}
      },
      "source": [
        "def recode_borocd_counts(row):\n",
        "  if row.community_board[0] != 'U':\n",
        "    if 'MANHATTAN' in row.community_board:\n",
        "      return '1' + row.community_board[0:2]\n",
        "    elif 'BRONX' in row.community_board:\n",
        "      return '2' + row.community_board[0:2]\n",
        "    elif 'BROOKLYN' in row.community_board:\n",
        "      return '3' + row.community_board[0:2]\n",
        "    elif 'QUEENS' in row.community_board:\n",
        "      return '4' + row.community_board[0:2]\n",
        "    elif 'STATEN ISLAND' in row.community_board:\n",
        "      return '5' + row.community_board[0:2]\n",
        "  else:\n",
        "    return 'Invalid borocd'\n",
        "\n",
        "count_noise['borocd'] = count_noise.apply(recode_borocd_counts, axis=1)\n",
        "\n",
        "count_heatwater['borocd'] = count_heatwater.apply(recode_borocd_counts, axis=1)\n",
        "\n",
        "count_other['borocd'] = count_other.apply(recode_borocd_counts, axis=1)\n",
        "\n",
        "count_all['borocd'] = count_all.apply(recode_borocd_counts, axis=1)"
      ],
      "execution_count": 0,
      "outputs": []
    },
    {
      "cell_type": "code",
      "metadata": {
        "id": "UWojMj9dyNS_",
        "colab_type": "code",
        "outputId": "38ae52b0-8c79-463b-8131-3de4bbe84722",
        "colab": {
          "base_uri": "https://localhost:8080/",
          "height": 85
        }
      },
      "source": [
        "count_noise = count_noise[count_noise.borocd.isin(valid_borocds)]\n",
        "print(len(count_noise))\n",
        "\n",
        "count_heatwater = count_heatwater[count_heatwater.borocd.isin(valid_borocds)]\n",
        "print(len(count_heatwater))\n",
        "\n",
        "count_other = count_other[count_other.borocd.isin(valid_borocds)]\n",
        "print(len(count_other))\n",
        "\n",
        "count_all = count_all[count_all.borocd.isin(valid_borocds)]\n",
        "print(len(count_all))\n"
      ],
      "execution_count": 9,
      "outputs": [
        {
          "output_type": "stream",
          "text": [
            "59\n",
            "59\n",
            "59\n",
            "59\n"
          ],
          "name": "stdout"
        }
      ]
    },
    {
      "cell_type": "code",
      "metadata": {
        "id": "hadPfNDunmlA",
        "colab_type": "code",
        "cellView": "both",
        "colab": {}
      },
      "source": [
        "#Needed for Step 3\n",
        "population = pd.read_csv('https://data.cityofnewyork.us/api/views/xi7c-iiu2/rows.csv?accessType=DOWNLOAD', header='infer')"
      ],
      "execution_count": 0,
      "outputs": []
    },
    {
      "cell_type": "code",
      "metadata": {
        "id": "nhsQCLzSnq5Q",
        "colab_type": "code",
        "cellView": "both",
        "colab": {}
      },
      "source": [
        "def recode_borocd_pop(row):\n",
        "  if row.Borough == 'Manhattan':\n",
        "    return str(100 + row['CD Number'])\n",
        "  elif row.Borough == 'Bronx':\n",
        "    return str(200 + row['CD Number'])\n",
        "  elif row.Borough == 'Brooklyn':\n",
        "    return str(300 + row['CD Number'])\n",
        "  elif row.Borough == 'Queens':\n",
        "    return str(400 + row['CD Number'])\n",
        "  elif row.Borough == 'Staten Island':\n",
        "    return str(500 + row['CD Number'])\n",
        "  else:\n",
        "    return 'Invalid borocd'\n",
        "\n",
        "population['borocd'] = population.apply(recode_borocd_pop, axis=1)"
      ],
      "execution_count": 0,
      "outputs": []
    },
    {
      "cell_type": "code",
      "metadata": {
        "id": "qVQr-FEbnuLB",
        "colab_type": "code",
        "cellView": "both",
        "outputId": "3b8da9e2-1475-4ceb-b49a-b371ca2e8228",
        "colab": {
          "base_uri": "https://localhost:8080/",
          "height": 255
        }
      },
      "source": [
        "\n",
        "merged_noise = pd.merge(left=count_noise, right=population, left_on='borocd', right_on='borocd')\n",
        "merged_heatwater = pd.merge(left=count_heatwater, right=population, left_on='borocd', right_on='borocd')\n",
        "merged_other = pd.merge(left=count_other, right=population, left_on='borocd', right_on='borocd')\n",
        "merged_other.head()"
      ],
      "execution_count": 12,
      "outputs": [
        {
          "output_type": "execute_result",
          "data": {
            "text/html": [
              "<div>\n",
              "<style scoped>\n",
              "    .dataframe tbody tr th:only-of-type {\n",
              "        vertical-align: middle;\n",
              "    }\n",
              "\n",
              "    .dataframe tbody tr th {\n",
              "        vertical-align: top;\n",
              "    }\n",
              "\n",
              "    .dataframe thead th {\n",
              "        text-align: right;\n",
              "    }\n",
              "</style>\n",
              "<table border=\"1\" class=\"dataframe\">\n",
              "  <thead>\n",
              "    <tr style=\"text-align: right;\">\n",
              "      <th></th>\n",
              "      <th>community_board</th>\n",
              "      <th>count_of_311_requests</th>\n",
              "      <th>borocd</th>\n",
              "      <th>Borough</th>\n",
              "      <th>CD Number</th>\n",
              "      <th>CD Name</th>\n",
              "      <th>1970 Population</th>\n",
              "      <th>1980 Population</th>\n",
              "      <th>1990 Population</th>\n",
              "      <th>2000 Population</th>\n",
              "      <th>2010 Population</th>\n",
              "    </tr>\n",
              "  </thead>\n",
              "  <tbody>\n",
              "    <tr>\n",
              "      <th>0</th>\n",
              "      <td>01 BRONX</td>\n",
              "      <td>20316</td>\n",
              "      <td>201</td>\n",
              "      <td>Bronx</td>\n",
              "      <td>1</td>\n",
              "      <td>Melrose, Mott Haven, Port Morris</td>\n",
              "      <td>138557</td>\n",
              "      <td>78441</td>\n",
              "      <td>77214</td>\n",
              "      <td>82159</td>\n",
              "      <td>91497</td>\n",
              "    </tr>\n",
              "    <tr>\n",
              "      <th>1</th>\n",
              "      <td>01 BROOKLYN</td>\n",
              "      <td>59389</td>\n",
              "      <td>301</td>\n",
              "      <td>Brooklyn</td>\n",
              "      <td>1</td>\n",
              "      <td>Williamsburg, Greenpoint</td>\n",
              "      <td>179390</td>\n",
              "      <td>142942</td>\n",
              "      <td>155972</td>\n",
              "      <td>160338</td>\n",
              "      <td>173083</td>\n",
              "    </tr>\n",
              "    <tr>\n",
              "      <th>2</th>\n",
              "      <td>01 MANHATTAN</td>\n",
              "      <td>20261</td>\n",
              "      <td>101</td>\n",
              "      <td>Manhattan</td>\n",
              "      <td>1</td>\n",
              "      <td>Battery Park City, Tribeca</td>\n",
              "      <td>7706</td>\n",
              "      <td>15918</td>\n",
              "      <td>25366</td>\n",
              "      <td>34420</td>\n",
              "      <td>60978</td>\n",
              "    </tr>\n",
              "    <tr>\n",
              "      <th>3</th>\n",
              "      <td>01 QUEENS</td>\n",
              "      <td>53370</td>\n",
              "      <td>401</td>\n",
              "      <td>Queens</td>\n",
              "      <td>1</td>\n",
              "      <td>Astoria, Long Island City</td>\n",
              "      <td>185925</td>\n",
              "      <td>185198</td>\n",
              "      <td>188549</td>\n",
              "      <td>211220</td>\n",
              "      <td>191105</td>\n",
              "    </tr>\n",
              "    <tr>\n",
              "      <th>4</th>\n",
              "      <td>01 STATEN ISLAND</td>\n",
              "      <td>58449</td>\n",
              "      <td>501</td>\n",
              "      <td>Staten Island</td>\n",
              "      <td>1</td>\n",
              "      <td>Stapleton, Port Richmond</td>\n",
              "      <td>135875</td>\n",
              "      <td>138489</td>\n",
              "      <td>137806</td>\n",
              "      <td>162609</td>\n",
              "      <td>175756</td>\n",
              "    </tr>\n",
              "  </tbody>\n",
              "</table>\n",
              "</div>"
            ],
            "text/plain": [
              "    community_board  count_of_311_requests borocd        Borough  CD Number  \\\n",
              "0          01 BRONX                  20316    201          Bronx          1   \n",
              "1       01 BROOKLYN                  59389    301       Brooklyn          1   \n",
              "2      01 MANHATTAN                  20261    101      Manhattan          1   \n",
              "3         01 QUEENS                  53370    401         Queens          1   \n",
              "4  01 STATEN ISLAND                  58449    501  Staten Island          1   \n",
              "\n",
              "                            CD Name  1970 Population  1980 Population  \\\n",
              "0  Melrose, Mott Haven, Port Morris           138557            78441   \n",
              "1          Williamsburg, Greenpoint           179390           142942   \n",
              "2        Battery Park City, Tribeca             7706            15918   \n",
              "3         Astoria, Long Island City           185925           185198   \n",
              "4          Stapleton, Port Richmond           135875           138489   \n",
              "\n",
              "   1990 Population  2000 Population  2010 Population  \n",
              "0            77214            82159            91497  \n",
              "1           155972           160338           173083  \n",
              "2            25366            34420            60978  \n",
              "3           188549           211220           191105  \n",
              "4           137806           162609           175756  "
            ]
          },
          "metadata": {
            "tags": []
          },
          "execution_count": 12
        }
      ]
    },
    {
      "cell_type": "code",
      "metadata": {
        "id": "wrqfg_KY0G5O",
        "colab_type": "code",
        "outputId": "71a14551-beca-4940-de30-4f3abd139f0d",
        "colab": {
          "base_uri": "https://localhost:8080/",
          "height": 204
        }
      },
      "source": [
        "count_noise = merged_noise[['borocd', 'Borough', 'community_board', '2010 Population', 'count_of_311_requests']]\n",
        "count_heatwater = merged_heatwater[['borocd', 'Borough', 'community_board', '2010 Population', 'count_of_311_requests']]\n",
        "count_other = merged_other[['borocd', 'Borough', 'community_board', '2010 Population', 'count_of_311_requests']]\n",
        "count_other.head()"
      ],
      "execution_count": 13,
      "outputs": [
        {
          "output_type": "execute_result",
          "data": {
            "text/html": [
              "<div>\n",
              "<style scoped>\n",
              "    .dataframe tbody tr th:only-of-type {\n",
              "        vertical-align: middle;\n",
              "    }\n",
              "\n",
              "    .dataframe tbody tr th {\n",
              "        vertical-align: top;\n",
              "    }\n",
              "\n",
              "    .dataframe thead th {\n",
              "        text-align: right;\n",
              "    }\n",
              "</style>\n",
              "<table border=\"1\" class=\"dataframe\">\n",
              "  <thead>\n",
              "    <tr style=\"text-align: right;\">\n",
              "      <th></th>\n",
              "      <th>borocd</th>\n",
              "      <th>Borough</th>\n",
              "      <th>community_board</th>\n",
              "      <th>2010 Population</th>\n",
              "      <th>count_of_311_requests</th>\n",
              "    </tr>\n",
              "  </thead>\n",
              "  <tbody>\n",
              "    <tr>\n",
              "      <th>0</th>\n",
              "      <td>201</td>\n",
              "      <td>Bronx</td>\n",
              "      <td>01 BRONX</td>\n",
              "      <td>91497</td>\n",
              "      <td>20316</td>\n",
              "    </tr>\n",
              "    <tr>\n",
              "      <th>1</th>\n",
              "      <td>301</td>\n",
              "      <td>Brooklyn</td>\n",
              "      <td>01 BROOKLYN</td>\n",
              "      <td>173083</td>\n",
              "      <td>59389</td>\n",
              "    </tr>\n",
              "    <tr>\n",
              "      <th>2</th>\n",
              "      <td>101</td>\n",
              "      <td>Manhattan</td>\n",
              "      <td>01 MANHATTAN</td>\n",
              "      <td>60978</td>\n",
              "      <td>20261</td>\n",
              "    </tr>\n",
              "    <tr>\n",
              "      <th>3</th>\n",
              "      <td>401</td>\n",
              "      <td>Queens</td>\n",
              "      <td>01 QUEENS</td>\n",
              "      <td>191105</td>\n",
              "      <td>53370</td>\n",
              "    </tr>\n",
              "    <tr>\n",
              "      <th>4</th>\n",
              "      <td>501</td>\n",
              "      <td>Staten Island</td>\n",
              "      <td>01 STATEN ISLAND</td>\n",
              "      <td>175756</td>\n",
              "      <td>58449</td>\n",
              "    </tr>\n",
              "  </tbody>\n",
              "</table>\n",
              "</div>"
            ],
            "text/plain": [
              "  borocd        Borough   community_board  2010 Population  \\\n",
              "0    201          Bronx          01 BRONX            91497   \n",
              "1    301       Brooklyn       01 BROOKLYN           173083   \n",
              "2    101      Manhattan      01 MANHATTAN            60978   \n",
              "3    401         Queens         01 QUEENS           191105   \n",
              "4    501  Staten Island  01 STATEN ISLAND           175756   \n",
              "\n",
              "   count_of_311_requests  \n",
              "0                  20316  \n",
              "1                  59389  \n",
              "2                  20261  \n",
              "3                  53370  \n",
              "4                  58449  "
            ]
          },
          "metadata": {
            "tags": []
          },
          "execution_count": 13
        }
      ]
    },
    {
      "cell_type": "markdown",
      "metadata": {
        "id": "Ub3BmyNHWf1I",
        "colab_type": "text"
      },
      "source": [
        "**Q2:** Create a stacked bar chart comprised of three stacked bars. The total height of each bar (the sum of the three stacked bars) should reflect the total count of 311 complaints per CD.\n",
        "\n",
        "*   number of 'Noise - Residential' complaints per CD\n",
        "*   number of 'HEAT/HOT WATER' complaints per CD\n",
        "*   number of other complaints per CD\n",
        "\n",
        "\n",
        "\n",
        "\n",
        "\n",
        "\n",
        "\n",
        "\n"
      ]
    },
    {
      "cell_type": "code",
      "metadata": {
        "id": "VB1VZhPMWzj-",
        "colab_type": "code",
        "outputId": "3fc17b4f-efaf-4837-99ea-688cdab767c0",
        "colab": {
          "base_uri": "https://localhost:8080/",
          "height": 413
        }
      },
      "source": [
        "# X axis is still organized by CB data so this is the x axis\n",
        "position_on_x = np.arange(len(count_all))\n",
        "\n",
        "#Three pieces to the stack per CB\n",
        "count_noise_np = np.array(count_noise.count_of_311_requests)\n",
        "\n",
        "count_heatwater_np = np.array(count_heatwater.count_of_311_requests)\n",
        "\n",
        "count_other_np = np.array(count_other.count_of_311_requests)\n",
        "\n",
        "#resize plot\n",
        "plt.figure(figsize=(15, 6))\n",
        "\n",
        "#Plot recipe\n",
        "plot1 = plt.bar(\n",
        "  position_on_x,\n",
        "  count_noise_np,\n",
        "  align='center',\n",
        "  color='#ebe53f',\n",
        "  label='Noise - Residential'\n",
        ")\n",
        "\n",
        "plot2 = plt.bar(\n",
        "  position_on_x,\n",
        "  count_heatwater_np,\n",
        "  bottom=count_noise_np,\n",
        "  align='center',\n",
        "  color='purple',\n",
        "  label='Heat/Hot Water'\n",
        ")\n",
        "\n",
        "plot3 = plt.bar(\n",
        "  position_on_x,\n",
        "  count_other_np,\n",
        "  bottom=count_heatwater_np,\n",
        "  align='center',\n",
        "  color='#bfcadb',\n",
        "  label='Other Complaints'\n",
        ")\n",
        "\n",
        "plt.xticks(position_on_x, count_all.borocd, rotation=90)\n",
        "\n",
        "plt.title('Counts of Noise, Heat/Hot Water and Other 311 Requests per Community District')\n",
        "plt.xlabel('BoroCD')\n",
        "plt.ylabel('# of Requests')\n",
        "plt.legend() \n",
        "\n",
        "plt.show()\n"
      ],
      "execution_count": 25,
      "outputs": [
        {
          "output_type": "display_data",
          "data": {
            "image/png": "[encoded data removed]",
            "text/plain": [
              "<Figure size 1080x432 with 1 Axes>"
            ]
          },
          "metadata": {
            "tags": []
          }
        }
      ]
    },
    {
      "cell_type": "markdown",
      "metadata": {
        "id": "t5VUPUuaW0j-",
        "colab_type": "text"
      },
      "source": [
        "**Q3:** Create a scatter plot of community district's 311 counts per category (y-axis) vs. CD population (x-axis). The scatter plot should show each of the three complaint categories in a different color."
      ]
    },
    {
      "cell_type": "code",
      "metadata": {
        "id": "pdRa_jndNu0y",
        "colab_type": "code",
        "outputId": "698c1995-da0c-4508-9adc-f4201151101f",
        "colab": {
          "base_uri": "https://localhost:8080/",
          "height": 404
        }
      },
      "source": [
        "#need a list for each complaint type piece\n",
        "noise_cds = [\n",
        "  [count_noise['2010 Population']/1000],\n",
        "  [count_noise.count_of_311_requests]\n",
        "]\n",
        "\n",
        "heatwater_cds = [\n",
        "  [count_heatwater['2010 Population']/1000],\n",
        "  [count_heatwater.count_of_311_requests]\n",
        "]\n",
        "\n",
        "other_cds = [\n",
        "  [count_other['2010 Population']/1000],\n",
        "  [count_other.count_of_311_requests]\n",
        "]\n",
        "\n",
        "colors = [\"#ebe53f\", \"purple\", \"#bfcadb\"]\n",
        "\n",
        "groups = [\"Noise - Residential\", \"Heat/Hot Water\", \"Other Complaints\"]\n",
        "\n",
        "#plot recipe\n",
        "plt.figure(figsize=(15,6))\n",
        "\n",
        "plt.scatter(\n",
        "  noise_cds[0],\n",
        "  noise_cds[1],\n",
        "  alpha=0.8,\n",
        "  c=colors[0],\n",
        "  s=50,\n",
        "  label=groups[0]\n",
        ")\n",
        "\n",
        "plt.scatter(\n",
        "  heatwater_cds[0],\n",
        "  heatwater_cds[1],\n",
        "  alpha=0.8,\n",
        "  c=colors[1],\n",
        "  s=50,\n",
        "  label=groups[1]\n",
        ")\n",
        "\n",
        "plt.scatter(\n",
        "  other_cds[0],\n",
        "  other_cds[1],\n",
        "  alpha=0.8,\n",
        "  c=colors[2],\n",
        "  s=50,\n",
        "  label=groups[2]\n",
        ")\n",
        "\n",
        "#Labels\n",
        "plt.title('Residential Noise, Heat/Hot Water and Other Complaints vs. Community District Population')\n",
        "plt.xlabel('Population in Community District (Thousands)')\n",
        "plt.ylabel('# of 311 Requests in Community District')\n",
        "\n",
        "plt.legend(loc=2)\n",
        "\n",
        "plt.show()"
      ],
      "execution_count": 24,
      "outputs": [
        {
          "output_type": "display_data",
          "data": {
            "image/png": "[encoded data removed]",
            "text/plain": [
              "<Figure size 1080x432 with 1 Axes>"
            ]
          },
          "metadata": {
            "tags": []
          }
        }
      ]
    },
    {
      "cell_type": "code",
      "metadata": {
        "id": "jvcVd04RNNck",
        "colab_type": "code",
        "colab": {}
      },
      "source": [
        ""
      ],
      "execution_count": 0,
      "outputs": []
    }
  ]
}