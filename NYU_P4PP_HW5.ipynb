{
  "nbformat": 4,
  "nbformat_minor": 0,
  "metadata": {
    "colab": {
      "name": "HW5.ipynb",
      "provenance": [],
      "collapsed_sections": [],
      "include_colab_link": true
    },
    "kernelspec": {
      "name": "python3",
      "display_name": "Python 3"
    }
  },
  "cells": [
    {
      "cell_type": "markdown",
      "metadata": {
        "id": "view-in-github",
        "colab_type": "text"
      },
      "source": [
        "<a href=\"https://colab.research.google.com/github/jmorral/nyu-python-public-policy/blob/master/HW5.ipynb\" target=\"_parent\"><img src=\"https://colab.research.google.com/assets/colab-badge.svg\" alt=\"Open In Colab\"/></a>"
      ]
    },
    {
      "cell_type": "code",
      "metadata": {
        "id": "3t8BZwfVR7cb",
        "colab_type": "code",
        "outputId": "a2a8c8e9-7308-407f-b6bd-867ac7288df8",
        "colab": {
          "base_uri": "https://localhost:8080/",
          "height": 122
        }
      },
      "source": [
        "import pandas as pd\n",
        "import matplotlib.pyplot as plt \n",
        "import numpy as np\n",
        "from google.colab import drive\n",
        "drive.mount('/content/drive', force_remount=True)"
      ],
      "execution_count": 1,
      "outputs": [
        {
          "output_type": "stream",
          "text": [
            "Go to this URL in a browser: https://accounts.google.com/o/oauth2/auth?client_id=947318989803-6bn6qk8qdgf4n4g3pfee6491hc0brc4i.apps.googleusercontent.com&redirect_uri=urn%3aietf%3awg%3aoauth%3a2.0%3aoob&response_type=code&scope=email%20https%3a%2f%2fwww.googleapis.com%2fauth%2fdocs.test%20https%3a%2f%2fwww.googleapis.com%2fauth%2fdrive%20https%3a%2f%2fwww.googleapis.com%2fauth%2fdrive.photos.readonly%20https%3a%2f%2fwww.googleapis.com%2fauth%2fpeopleapi.readonly\n",
            "\n",
            "Enter your authorization code:\n",
            "··········\n",
            "Mounted at /content/drive\n"
          ],
          "name": "stdout"
        }
      ]
    },
    {
      "cell_type": "code",
      "metadata": {
        "id": "No8UrK9yVUsV",
        "colab_type": "code",
        "colab": {}
      },
      "source": [
        "import statsmodels.api as sm\n",
        "pd.set_option('display.max_columns', None)\n",
        "pd.set_option('display.max_rows', None)"
      ],
      "execution_count": 0,
      "outputs": []
    },
    {
      "cell_type": "markdown",
      "metadata": {
        "id": "rXWxxKQDYVLV",
        "colab_type": "text"
      },
      "source": [
        "**HOMEWORK 5 Coding: The relationship between concentration of homeless shelters and count of 311 requests related to homeless services**\n",
        "\n",
        "Problem Statement: Homelesses is a big concern in New York City. The Department of Homeless Services is tasked with providing services and housing for people who are homeless. They recently began publishing the count of homeless shelter buildings per community district on NYC Open Data to provide more transparency into where shelters are located. The dataset provides counts in multiple columns for different categories of buildings. It also includes counts from different reporting dates.\n",
        "\n",
        "The 311 Service Requests dataset includes a complaint type called \"Homeless Person Assistance\". Let's find out if there's a relationship between the number of homeless assistance 311 requests and the concentration of homeless shelter buildings per community district."
      ]
    },
    {
      "cell_type": "markdown",
      "metadata": {
        "id": "u8JIu1iZY2CF",
        "colab_type": "text"
      },
      "source": [
        "Step 1. Load the datasets:\n"
      ]
    },
    {
      "cell_type": "code",
      "metadata": {
        "id": "o3ZIpeZfXxa3",
        "colab_type": "code",
        "outputId": "983c4b77-7fb8-432d-9d89-26af36ebe19a",
        "colab": {
          "base_uri": "https://localhost:8080/",
          "height": 51
        }
      },
      "source": [
        "df = pd.read_csv('/content/drive/My Drive/Data for Python/cleaned_311_data_revised.csv', header='infer')\n",
        "shelter = pd.read_csv('https://data.cityofnewyork.us/api/views/3qem-6v3v/rows.csv?accessType=DOWNLOAD', header= 'infer')"
      ],
      "execution_count": 3,
      "outputs": [
        {
          "output_type": "stream",
          "text": [
            "/usr/local/lib/python3.6/dist-packages/IPython/core/interactiveshell.py:2718: DtypeWarning: Columns (10,19,20,22,33,36,37,38,39) have mixed types. Specify dtype option on import or set low_memory=False.\n",
            "  interactivity=interactivity, compiler=compiler, result=result)\n"
          ],
          "name": "stderr"
        }
      ]
    },
    {
      "cell_type": "markdown",
      "metadata": {
        "id": "obLp5wQpbN93",
        "colab_type": "text"
      },
      "source": [
        "Step 2. Filter the shelter count dataframe to only keep rows where the value in the 'Report Date' column is '09/30/2019'"
      ]
    },
    {
      "cell_type": "code",
      "metadata": {
        "id": "gN0e-JxBZqzX",
        "colab_type": "code",
        "outputId": "9d7c2c63-df7a-4915-f98a-d7906b51657f",
        "colab": {
          "base_uri": "https://localhost:8080/",
          "height": 306
        }
      },
      "source": [
        "for column_name in shelter.columns:\n",
        "  shelter.rename(columns={column_name:column_name.replace(' ', '_').lower()}, inplace=True)\n",
        "\n",
        "shelter_count = shelter[shelter.report_date == '09/30/2019']\n",
        "\n",
        "shelter_count.community_district = shelter_count.community_district.astype('float64')\n",
        "shelter_count = shelter_count.drop_duplicates()\n",
        "shelter_count.head()"
      ],
      "execution_count": 5,
      "outputs": [
        {
          "output_type": "stream",
          "text": [
            "/usr/local/lib/python3.6/dist-packages/pandas/core/generic.py:5208: SettingWithCopyWarning: \n",
            "A value is trying to be set on a copy of a slice from a DataFrame.\n",
            "Try using .loc[row_indexer,col_indexer] = value instead\n",
            "\n",
            "See the caveats in the documentation: http://pandas.pydata.org/pandas-docs/stable/user_guide/indexing.html#returning-a-view-versus-a-copy\n",
            "  self[name] = value\n"
          ],
          "name": "stderr"
        },
        {
          "output_type": "execute_result",
          "data": {
            "text/html": [
              "<div>\n",
              "<style scoped>\n",
              "    .dataframe tbody tr th:only-of-type {\n",
              "        vertical-align: middle;\n",
              "    }\n",
              "\n",
              "    .dataframe tbody tr th {\n",
              "        vertical-align: top;\n",
              "    }\n",
              "\n",
              "    .dataframe thead th {\n",
              "        text-align: right;\n",
              "    }\n",
              "</style>\n",
              "<table border=\"1\" class=\"dataframe\">\n",
              "  <thead>\n",
              "    <tr style=\"text-align: right;\">\n",
              "      <th></th>\n",
              "      <th>report_date</th>\n",
              "      <th>borough</th>\n",
              "      <th>community_district</th>\n",
              "      <th>adult_family_comm_hotel</th>\n",
              "      <th>adult_family_shelter</th>\n",
              "      <th>adult_shelter</th>\n",
              "      <th>adult_shelter_comm_hotel</th>\n",
              "      <th>fwc_cluster</th>\n",
              "      <th>fwc_comm_hotel</th>\n",
              "      <th>fwc_shelter</th>\n",
              "    </tr>\n",
              "  </thead>\n",
              "  <tbody>\n",
              "    <tr>\n",
              "      <th>624</th>\n",
              "      <td>09/30/2019</td>\n",
              "      <td>Bronx</td>\n",
              "      <td>201.0</td>\n",
              "      <td>NaN</td>\n",
              "      <td>1.0</td>\n",
              "      <td>2.0</td>\n",
              "      <td>NaN</td>\n",
              "      <td>4.0</td>\n",
              "      <td>1.0</td>\n",
              "      <td>7.0</td>\n",
              "    </tr>\n",
              "    <tr>\n",
              "      <th>625</th>\n",
              "      <td>09/30/2019</td>\n",
              "      <td>Bronx</td>\n",
              "      <td>202.0</td>\n",
              "      <td>NaN</td>\n",
              "      <td>1.0</td>\n",
              "      <td>NaN</td>\n",
              "      <td>NaN</td>\n",
              "      <td>2.0</td>\n",
              "      <td>NaN</td>\n",
              "      <td>5.0</td>\n",
              "    </tr>\n",
              "    <tr>\n",
              "      <th>626</th>\n",
              "      <td>09/30/2019</td>\n",
              "      <td>Bronx</td>\n",
              "      <td>203.0</td>\n",
              "      <td>NaN</td>\n",
              "      <td>3.0</td>\n",
              "      <td>6.0</td>\n",
              "      <td>NaN</td>\n",
              "      <td>3.0</td>\n",
              "      <td>2.0</td>\n",
              "      <td>9.0</td>\n",
              "    </tr>\n",
              "    <tr>\n",
              "      <th>627</th>\n",
              "      <td>09/30/2019</td>\n",
              "      <td>Bronx</td>\n",
              "      <td>204.0</td>\n",
              "      <td>NaN</td>\n",
              "      <td>NaN</td>\n",
              "      <td>2.0</td>\n",
              "      <td>1.0</td>\n",
              "      <td>14.0</td>\n",
              "      <td>NaN</td>\n",
              "      <td>15.0</td>\n",
              "    </tr>\n",
              "    <tr>\n",
              "      <th>628</th>\n",
              "      <td>09/30/2019</td>\n",
              "      <td>Bronx</td>\n",
              "      <td>205.0</td>\n",
              "      <td>NaN</td>\n",
              "      <td>1.0</td>\n",
              "      <td>3.0</td>\n",
              "      <td>NaN</td>\n",
              "      <td>12.0</td>\n",
              "      <td>NaN</td>\n",
              "      <td>5.0</td>\n",
              "    </tr>\n",
              "  </tbody>\n",
              "</table>\n",
              "</div>"
            ],
            "text/plain": [
              "    report_date borough  community_district  adult_family_comm_hotel  \\\n",
              "624  09/30/2019   Bronx               201.0                      NaN   \n",
              "625  09/30/2019   Bronx               202.0                      NaN   \n",
              "626  09/30/2019   Bronx               203.0                      NaN   \n",
              "627  09/30/2019   Bronx               204.0                      NaN   \n",
              "628  09/30/2019   Bronx               205.0                      NaN   \n",
              "\n",
              "     adult_family_shelter  adult_shelter  adult_shelter_comm_hotel  \\\n",
              "624                   1.0            2.0                       NaN   \n",
              "625                   1.0            NaN                       NaN   \n",
              "626                   3.0            6.0                       NaN   \n",
              "627                   NaN            2.0                       1.0   \n",
              "628                   1.0            3.0                       NaN   \n",
              "\n",
              "     fwc_cluster  fwc_comm_hotel  fwc_shelter  \n",
              "624          4.0             1.0          7.0  \n",
              "625          2.0             NaN          5.0  \n",
              "626          3.0             2.0          9.0  \n",
              "627         14.0             NaN         15.0  \n",
              "628         12.0             NaN          5.0  "
            ]
          },
          "metadata": {
            "tags": []
          },
          "execution_count": 5
        }
      ]
    },
    {
      "cell_type": "markdown",
      "metadata": {
        "id": "0BBhvC6dbdjG",
        "colab_type": "text"
      },
      "source": [
        "Step 3. Create a new column in the shelter count dataframe that calculates the sum of all the individual count columns: 'Adult Family Comm Hotel', 'Adult Family Shelter', 'Adult Shelter', 'Adult Shelter Comm Hotel', 'FWC Cluster', 'FWC Comm Hotel', 'FWC Shelter'"
      ]
    },
    {
      "cell_type": "code",
      "metadata": {
        "id": "Q58V-Rtpbi5S",
        "colab_type": "code",
        "colab": {}
      },
      "source": [
        "shelter_count = shelter_count.fillna(0)\n",
        "\n",
        "shelter_count['sum_col_count'] = shelter_count.apply(lambda row:\n",
        "                                                   row.adult_family_comm_hotel + \n",
        "                                                   row.adult_family_shelter + \n",
        "                                                   row.adult_shelter + \n",
        "                                                   row.adult_shelter_comm_hotel + \n",
        "                                                   row.fwc_cluster + \n",
        "                                                   row.fwc_comm_hotel + \n",
        "                                                   row.fwc_shelter, \n",
        "                                                   axis=1\n",
        "  )\n"
      ],
      "execution_count": 0,
      "outputs": []
    },
    {
      "cell_type": "markdown",
      "metadata": {
        "id": "yNZ5SoPwgoQI",
        "colab_type": "text"
      },
      "source": [
        "Step 4. From the 311 dataset, create a subset of all the 311 requests where complaint_type == 'Homeless Person Assistance'\n",
        "\n",
        "Step 5. Group the 311 subset by 'borocd' to get the count of 'Homeless Person Assistance' requests per community district"
      ]
    },
    {
      "cell_type": "code",
      "metadata": {
        "id": "0jguGci-grWH",
        "colab_type": "code",
        "colab": {}
      },
      "source": [
        "cd_homeless = df[df.complaint_type == 'Homeless Person Assistance']\n",
        "cd_borocd_homeless = cd_homeless.groupby('borocd').size().reset_index(name='count_of_311_requests')\n"
      ],
      "execution_count": 0,
      "outputs": []
    },
    {
      "cell_type": "markdown",
      "metadata": {
        "id": "ukY79e7QzSHN",
        "colab_type": "text"
      },
      "source": [
        "Step 6. Merge the homeless 311 request count table (from Step 5) with the shelter count table (from Step 3)."
      ]
    },
    {
      "cell_type": "code",
      "metadata": {
        "id": "8u3KIESajvdI",
        "colab_type": "code",
        "colab": {}
      },
      "source": [
        "merge_homeless = pd.merge(left=cd_borocd_homeless, right=shelter_count, left_on='borocd', right_on='community_district', how = 'left')\n",
        "merge_homeless = merge_homeless.fillna(0)\n"
      ],
      "execution_count": 0,
      "outputs": []
    },
    {
      "cell_type": "markdown",
      "metadata": {
        "id": "zqFhIYV5zN9z",
        "colab_type": "text"
      },
      "source": [
        "Step 7. Produce a scatter plot of the data using the matplotlib package. What is your initial impression on whether there is a correlation between number of shelters and count of 311 homeless service requests?"
      ]
    },
    {
      "cell_type": "code",
      "metadata": {
        "id": "3Cw42gXhz_cX",
        "colab_type": "code",
        "outputId": "e6ea5f1a-6bc6-4de8-cd85-532d02610b70",
        "colab": {
          "base_uri": "https://localhost:8080/",
          "height": 404
        }
      },
      "source": [
        "#plot recipe\n",
        "plt.figure(figsize=(15,6))\n",
        "\n",
        "x = np.array(merge_homeless.sum_col_count)\n",
        "y = np.array(merge_homeless.count_of_311_requests)\n",
        "\n",
        "plt.scatter(\n",
        "  x,\n",
        "  y,\n",
        "  alpha=0.8,\n",
        "  c='pink',\n",
        "  s=50,\n",
        "  edgecolors = 'black'\n",
        "  \n",
        ")\n",
        "\n",
        "\n",
        "#Labels\n",
        "plt.title('311 Requests Homeless Person Assistance vs. Total Shelters per Community District')\n",
        "plt.xlabel('Total Shelters')\n",
        "plt.ylabel('# of 311 Requests in Community District')\n",
        "\n",
        "plt.show()"
      ],
      "execution_count": 9,
      "outputs": [
        {
          "output_type": "display_data",
          "data": {
            "image/png": "[encoded data removed]",
            "text/plain": [
              "<Figure size 1080x432 with 1 Axes>"
            ]
          },
          "metadata": {
            "tags": []
          }
        }
      ]
    },
    {
      "cell_type": "markdown",
      "metadata": {
        "id": "juKzgtcojpto",
        "colab_type": "text"
      },
      "source": [
        "Step 8. Use np.corrcoef(x, y) to identify the correlation coefficient between count of total shelter buildings and count of homeless requests per community district.\n",
        "\n"
      ]
    },
    {
      "cell_type": "code",
      "metadata": {
        "id": "LcmivWQk26qY",
        "colab_type": "code",
        "outputId": "59a0fc06-37a3-4b8d-9c40-56efb9250e3e",
        "colab": {
          "base_uri": "https://localhost:8080/",
          "height": 51
        }
      },
      "source": [
        "np.corrcoef(x,y)"
      ],
      "execution_count": 10,
      "outputs": [
        {
          "output_type": "execute_result",
          "data": {
            "text/plain": [
              "array([[1.        , 0.01073618],\n",
              "       [0.01073618, 1.        ]])"
            ]
          },
          "metadata": {
            "tags": []
          },
          "execution_count": 10
        }
      ]
    },
    {
      "cell_type": "markdown",
      "metadata": {
        "id": "pM8XBZs8YPzq",
        "colab_type": "text"
      },
      "source": [
        "Step 9. Perform a linear regression with count of total shelter buildings as the independent variable and count of homeless requests as the dependent variable"
      ]
    },
    {
      "cell_type": "code",
      "metadata": {
        "id": "ijX6go6Q3Z17",
        "colab_type": "code",
        "outputId": "143f57cc-12d6-4b45-dedf-1fea69fd8c73",
        "colab": {
          "base_uri": "https://localhost:8080/",
          "height": 442
        }
      },
      "source": [
        "x = sm.add_constant(x)\n",
        "model = sm.OLS(y,x).fit()\n",
        "print(model.summary())"
      ],
      "execution_count": 11,
      "outputs": [
        {
          "output_type": "stream",
          "text": [
            "                            OLS Regression Results                            \n",
            "==============================================================================\n",
            "Dep. Variable:                      y   R-squared:                       0.000\n",
            "Model:                            OLS   Adj. R-squared:                 -0.017\n",
            "Method:                 Least Squares   F-statistic:                  0.006571\n",
            "Date:                Wed, 04 Dec 2019   Prob (F-statistic):              0.936\n",
            "Time:                        22:25:59   Log-Likelihood:                -445.94\n",
            "No. Observations:                  59   AIC:                             895.9\n",
            "Df Residuals:                      57   BIC:                             900.0\n",
            "Df Model:                           1                                         \n",
            "Covariance Type:            nonrobust                                         \n",
            "==============================================================================\n",
            "                 coef    std err          t      P>|t|      [0.025      0.975]\n",
            "------------------------------------------------------------------------------\n",
            "const        274.4772     83.126      3.302      0.002     108.019     440.935\n",
            "x1             0.5992      7.392      0.081      0.936     -14.203      15.402\n",
            "==============================================================================\n",
            "Omnibus:                       83.796   Durbin-Watson:                   0.939\n",
            "Prob(Omnibus):                  0.000   Jarque-Bera (JB):             1085.557\n",
            "Skew:                           4.097   Prob(JB):                    1.88e-236\n",
            "Kurtosis:                      22.350   Cond. No.                         15.3\n",
            "==============================================================================\n",
            "\n",
            "Warnings:\n",
            "[1] Standard Errors assume that the covariance matrix of the errors is correctly specified.\n"
          ],
          "name": "stdout"
        }
      ]
    },
    {
      "cell_type": "markdown",
      "metadata": {
        "id": "lVTx2PK42cec",
        "colab_type": "text"
      },
      "source": [
        "Step 10. Produce a scatter plot of the data with the line of best fit from your linear regression using the matplotlib package\n"
      ]
    },
    {
      "cell_type": "code",
      "metadata": {
        "id": "aCw75UpxZtAc",
        "colab_type": "code",
        "colab": {}
      },
      "source": [
        "p = model.params\n",
        "r2 = model.rsquared\n",
        "label = 'y = ' + str(round(p[1],2)) + 'x + ' + str(round(p[0],2)) + '; R2 = ' + str(round(r2,3))"
      ],
      "execution_count": 0,
      "outputs": []
    },
    {
      "cell_type": "code",
      "metadata": {
        "id": "3UXeuwqgY0kn",
        "colab_type": "code",
        "outputId": "fc5f636b-666a-41d2-c67a-10c2ba108448",
        "colab": {
          "base_uri": "https://localhost:8080/",
          "height": 404
        }
      },
      "source": [
        "#plot recipe\n",
        "plt.figure(figsize=(15,6))\n",
        "x_dummy = np.array(merge_homeless.sum_col_count)\n",
        "x = np.array(merge_homeless.sum_col_count)\n",
        "y = np.array(merge_homeless.count_of_311_requests)\n",
        "\n",
        "plt.scatter(\n",
        "  x,\n",
        "  y,\n",
        "  alpha=0.8,\n",
        "  c='pink',\n",
        "  s=50,\n",
        "  edgecolors = 'black'\n",
        "  \n",
        ")\n",
        "\n",
        "plt.plot(\n",
        "    x_dummy,\n",
        "    p[0] + p[1] * x_dummy,\n",
        "    c = 'purple',\n",
        "    label=label\n",
        ")\n",
        "\n",
        "\n",
        "#Labels\n",
        "plt.title('311 Requests Homeless Person Assistance vs. Total Shelters per Community District')\n",
        "plt.xlabel('Total Shelters')\n",
        "plt.ylabel('# of 311 Requests in Community District')\n",
        "plt.legend()\n",
        "\n",
        "plt.show()"
      ],
      "execution_count": 13,
      "outputs": [
        {
          "output_type": "display_data",
          "data": {
            "image/png": "[encoded data removed]",
            "text/plain": [
              "<Figure size 1080x432 with 1 Axes>"
            ]
          },
          "metadata": {
            "tags": []
          }
        }
      ]
    },
    {
      "cell_type": "markdown",
      "metadata": {
        "id": "gqzV3xz82dJL",
        "colab_type": "text"
      },
      "source": [
        "Step 11: Write a sentence or two explaining the results of your analysis. What do the numbers and chart tell you about the relationship between concentration of homeless shelters vs. frequency of 311 requests related to homelessness?"
      ]
    },
    {
      "cell_type": "markdown",
      "metadata": {
        "id": "9bWTdz8eaoU2",
        "colab_type": "text"
      },
      "source": [
        "From looking at the results from corrcoef from numPy we can see that there is essentially no correlation as the numbers are very close to zero. When adding in the best fit line based on the parameters gained from the regression analysis, the line is mostly flat, and the R^2 value is zero. An R^2 value of 0.0 would indicate no linear relationship between the counts of 311 data and the concentration of homeless shelters. \n",
        "\n"
      ]
    },
    {
      "cell_type": "code",
      "metadata": {
        "id": "QrU6_Dmub9GA",
        "colab_type": "code",
        "colab": {}
      },
      "source": [
        ""
      ],
      "execution_count": 0,
      "outputs": []
    }
  ]
}
